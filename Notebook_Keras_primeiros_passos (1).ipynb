{
  "cells": [
    {
      "cell_type": "markdown",
      "metadata": {
        "id": "view-in-github"
      },
      "source": [
        "<a href=\"https://colab.research.google.com/github/Mirlaa/Keras-primeiros-passos/blob/main/Preparando-Ambiente/Notebook_Keras_primeiros_passos.ipynb\" target=\"_parent\"><img src=\"https://colab.research.google.com/assets/colab-badge.svg\" alt=\"Open In Colab\"/></a>"
      ]
    },
    {
      "cell_type": "markdown",
      "metadata": {
        "id": "MswYJgE70_Tz"
      },
      "source": [
        "# Keras: Redes Neurais"
      ]
    },
    {
      "cell_type": "markdown",
      "metadata": {
        "id": "K8P8HnKQmgz4"
      },
      "source": [
        "O Iris dataset é um conjunto de dados bem conhecido na comunidade academica, esse conjunto de dados consiste em 50 amostras de cada uma das três espécies (150 amostras, no total) de Iris: *Iris setosa, Iris virginica e Iris versicolor*.\n",
        "\n",
        "Quatro variáveis foram medidas em cada amostra: o comprimento (*length*) e a largura (*width*) das sépalas (*Sepal*) e pétalas (*Petal*), em centímetros. Com base na combinação dessas quatro características, é possível distinguir as espécies umas das outras.\n",
        "\n",
        "![](https://kedro.readthedocs.io/en/0.17.5/_images/iris_measurements.png)\n",
        "\n",
        "Abaixo a representação dos três tipos de flores Iris.\n",
        "\n",
        "![](https://www.embedded-robotics.com/wp-content/uploads/2022/01/Iris-Dataset-Classification.png)"
      ]
    },
    {
      "cell_type": "markdown",
      "metadata": {
        "id": "VHD9R5Dq4VVS"
      },
      "source": [
        "Iremos aprender como funciona um modelo neural e também construí-lo através da [**biblioteca Keras**](https://keras.io/)"
      ]
    },
    {
      "cell_type": "code",
      "execution_count": 1,
      "metadata": {
        "id": "fjSbRe9Y6Yjw"
      },
      "outputs": [],
      "source": [
        "from tensorflow import keras"
      ]
    },
    {
      "cell_type": "markdown",
      "metadata": {
        "id": "muv6prCFQxIw"
      },
      "source": [
        "## Modelo - Perceptron\n",
        "\n",
        "O [`keras.Sequential`](https://keras.io/api/models/sequential/) permite a criação de uma rede neural unindo camadas.\n",
        "\n",
        "A camada [`Dense`](https://keras.io/api/layers/core_layers/dense/) é uma camada definida no Keras que promove os cálculos e transformações utilizadas na criação de um modelo.\n",
        "\n",
        "Precisamos definir nela quantos neurônios ela conterá através do parâmetro `units` e podemos também definir a quantidade de entradas/características que os dados irão conter, para a implementação, vamos começar com dois."
      ]
    },
    {
      "cell_type": "code",
      "execution_count": 3,
      "metadata": {
        "id": "MB4Jwmvd6ZzQ"
      },
      "outputs": [],
      "source": [
        "modelo = keras.Sequential([keras.layers.Dense(units=1, input_shape=[2], name='neuronio')])"
      ]
    },
    {
      "cell_type": "markdown",
      "metadata": {
        "id": "Gl9P-SLtUIoW"
      },
      "source": [
        "**Explicação:**\n",
        "\n",
        "1. O `Sequential` cria um modelo muito simples (um dos mais simples no Keras) de redes neurais. Desse modo, é construida somente uma única pilha de camadas sequencialmente conectadas.\n",
        "2. A camada [`Dense`](https://www.tensorflow.org/api_docs/python/tf/keras/layers/Dense) é criada com 1 neurônio, representando o perceptron. A camada é responsável por cada peso contido nela bem como a inputação do vetor de viéses.\n",
        "  * `units`: informa a quantidade de neurônios que a camada Dense terá;\n",
        "  * `input_shape`: define a quantidade de entradas no modelo neural; e\n",
        "  * `name`: permite nomearmos essa camada."
      ]
    },
    {
      "cell_type": "markdown",
      "metadata": {
        "id": "0HhGNRyt8Okr"
      },
      "source": [
        "### Utilidades do modelo"
      ]
    },
    {
      "cell_type": "markdown",
      "metadata": {
        "id": "DhjM6r6KFFY-"
      },
      "source": [
        "#### Estrutura\n",
        "Podemos entender a esturtura do modelo (perceptron) criado através do método [`summary`](https://keras.io/api/models/model/#:~:text=%5Bsource%5D-,summary%20method,-Model.summary) e a função [`utils.plot_model`](https://www.tensorflow.org/api_docs/python/tf/keras/utils/plot_model) da biblioteca keras."
      ]
    },
    {
      "cell_type": "code",
      "execution_count": 4,
      "metadata": {
        "id": "8bx_lmqq6HEx",
        "colab": {
          "base_uri": "https://localhost:8080/",
          "height": 161
        },
        "outputId": "d95afd6e-f2c3-404d-e4c3-cee8bfe07cd2"
      },
      "outputs": [
        {
          "output_type": "display_data",
          "data": {
            "text/plain": [
              "\u001b[1mModel: \"sequential_1\"\u001b[0m\n"
            ],
            "text/html": [
              "<pre style=\"white-space:pre;overflow-x:auto;line-height:normal;font-family:Menlo,'DejaVu Sans Mono',consolas,'Courier New',monospace\"><span style=\"font-weight: bold\">Model: \"sequential_1\"</span>\n",
              "</pre>\n"
            ]
          },
          "metadata": {}
        },
        {
          "output_type": "display_data",
          "data": {
            "text/plain": [
              "┏━━━━━━━━━━━━━━━━━━━━━━━━━━━━━━━━━━━━━━┳━━━━━━━━━━━━━━━━━━━━━━━━━━━━━┳━━━━━━━━━━━━━━━━━┓\n",
              "┃\u001b[1m \u001b[0m\u001b[1mLayer (type)                        \u001b[0m\u001b[1m \u001b[0m┃\u001b[1m \u001b[0m\u001b[1mOutput Shape               \u001b[0m\u001b[1m \u001b[0m┃\u001b[1m \u001b[0m\u001b[1m        Param #\u001b[0m\u001b[1m \u001b[0m┃\n",
              "┡━━━━━━━━━━━━━━━━━━━━━━━━━━━━━━━━━━━━━━╇━━━━━━━━━━━━━━━━━━━━━━━━━━━━━╇━━━━━━━━━━━━━━━━━┩\n",
              "│ neuronio (\u001b[38;5;33mDense\u001b[0m)                     │ (\u001b[38;5;45mNone\u001b[0m, \u001b[38;5;34m1\u001b[0m)                   │               \u001b[38;5;34m3\u001b[0m │\n",
              "└──────────────────────────────────────┴─────────────────────────────┴─────────────────┘\n"
            ],
            "text/html": [
              "<pre style=\"white-space:pre;overflow-x:auto;line-height:normal;font-family:Menlo,'DejaVu Sans Mono',consolas,'Courier New',monospace\">┏━━━━━━━━━━━━━━━━━━━━━━━━━━━━━━━━━━━━━━┳━━━━━━━━━━━━━━━━━━━━━━━━━━━━━┳━━━━━━━━━━━━━━━━━┓\n",
              "┃<span style=\"font-weight: bold\"> Layer (type)                         </span>┃<span style=\"font-weight: bold\"> Output Shape                </span>┃<span style=\"font-weight: bold\">         Param # </span>┃\n",
              "┡━━━━━━━━━━━━━━━━━━━━━━━━━━━━━━━━━━━━━━╇━━━━━━━━━━━━━━━━━━━━━━━━━━━━━╇━━━━━━━━━━━━━━━━━┩\n",
              "│ neuronio (<span style=\"color: #0087ff; text-decoration-color: #0087ff\">Dense</span>)                     │ (<span style=\"color: #00d7ff; text-decoration-color: #00d7ff\">None</span>, <span style=\"color: #00af00; text-decoration-color: #00af00\">1</span>)                   │               <span style=\"color: #00af00; text-decoration-color: #00af00\">3</span> │\n",
              "└──────────────────────────────────────┴─────────────────────────────┴─────────────────┘\n",
              "</pre>\n"
            ]
          },
          "metadata": {}
        },
        {
          "output_type": "display_data",
          "data": {
            "text/plain": [
              "\u001b[1m Total params: \u001b[0m\u001b[38;5;34m3\u001b[0m (12.00 B)\n"
            ],
            "text/html": [
              "<pre style=\"white-space:pre;overflow-x:auto;line-height:normal;font-family:Menlo,'DejaVu Sans Mono',consolas,'Courier New',monospace\"><span style=\"font-weight: bold\"> Total params: </span><span style=\"color: #00af00; text-decoration-color: #00af00\">3</span> (12.00 B)\n",
              "</pre>\n"
            ]
          },
          "metadata": {}
        },
        {
          "output_type": "display_data",
          "data": {
            "text/plain": [
              "\u001b[1m Trainable params: \u001b[0m\u001b[38;5;34m3\u001b[0m (12.00 B)\n"
            ],
            "text/html": [
              "<pre style=\"white-space:pre;overflow-x:auto;line-height:normal;font-family:Menlo,'DejaVu Sans Mono',consolas,'Courier New',monospace\"><span style=\"font-weight: bold\"> Trainable params: </span><span style=\"color: #00af00; text-decoration-color: #00af00\">3</span> (12.00 B)\n",
              "</pre>\n"
            ]
          },
          "metadata": {}
        },
        {
          "output_type": "display_data",
          "data": {
            "text/plain": [
              "\u001b[1m Non-trainable params: \u001b[0m\u001b[38;5;34m0\u001b[0m (0.00 B)\n"
            ],
            "text/html": [
              "<pre style=\"white-space:pre;overflow-x:auto;line-height:normal;font-family:Menlo,'DejaVu Sans Mono',consolas,'Courier New',monospace\"><span style=\"font-weight: bold\"> Non-trainable params: </span><span style=\"color: #00af00; text-decoration-color: #00af00\">0</span> (0.00 B)\n",
              "</pre>\n"
            ]
          },
          "metadata": {}
        }
      ],
      "source": [
        "modelo.summary()"
      ]
    },
    {
      "cell_type": "markdown",
      "metadata": {
        "id": "qi_3hgcSU3g2"
      },
      "source": [
        "A única camada que temos é o próprio neurônio que criamos. O parâmetro dado nela é definido como 3 pois é considerado **a soma da quantidade de pesos mais a quantidade de viéses**.\n",
        "\n",
        "Os pesos são calculados multiplicando a quantidade de neurônios pela quantidade de entradas, desse modo, como definimos 2 entradas e 1 neurônio, teremos `2 * 1 = 2 pesos`, adicionadno o viés que é igual a quantidade de neurônios temos `2 + 1 = 3 parâmetros`."
      ]
    },
    {
      "cell_type": "code",
      "execution_count": 5,
      "metadata": {
        "id": "n7tK6ytX6I5h",
        "colab": {
          "base_uri": "https://localhost:8080/",
          "height": 273
        },
        "outputId": "53b6b51f-f6c6-4028-9686-2b09556d1973"
      },
      "outputs": [
        {
          "output_type": "execute_result",
          "data": {
            "image/png": "[encoded data removed]",
            "text/plain": [
              "<IPython.core.display.Image object>"
            ]
          },
          "metadata": {},
          "execution_count": 5
        }
      ],
      "source": [
        "keras.utils.plot_model(modelo, show_shapes=True)"
      ]
    },
    {
      "cell_type": "markdown",
      "metadata": {
        "id": "evTYaJuaK0ik"
      },
      "source": [
        "#### Pesos e viéses\n",
        "\n",
        "Para identificar os pesos e viés que o modelo vai inicializar, podemos utilizar o método [`get_weights()`](https://keras.io/api/layers/base_layer/#:~:text=%5Bsource%5D-,get_weights%20method,-Layer.get_weights) e o método [`layers`](https://keras.io/api/layers/base_layer/).\n",
        "\n",
        "* `layers`: retorna uma lista contendo as camadas do modelo criado;\n",
        "* `get_weights`: coleta os pesos e viéses da camada enviada como objeto e os retorna como lista."
      ]
    },
    {
      "cell_type": "code",
      "execution_count": 6,
      "metadata": {
        "id": "TVrI3SpU6OBh",
        "colab": {
          "base_uri": "https://localhost:8080/"
        },
        "outputId": "1223c33e-e9f0-4a97-dba1-4bab4ca0b467"
      },
      "outputs": [
        {
          "output_type": "execute_result",
          "data": {
            "text/plain": [
              "[<Dense name=neuronio, built=True>]"
            ]
          },
          "metadata": {},
          "execution_count": 6
        }
      ],
      "source": [
        "modelo.layers"
      ]
    },
    {
      "cell_type": "code",
      "execution_count": 8,
      "metadata": {
        "id": "cRJ_nP6G6N8A",
        "colab": {
          "base_uri": "https://localhost:8080/"
        },
        "outputId": "964ef9b0-3e27-4516-bd87-44d72485d121"
      },
      "outputs": [
        {
          "output_type": "execute_result",
          "data": {
            "text/plain": [
              "[array([[-0.09132576],\n",
              "        [-0.16583812]], dtype=float32),\n",
              " array([0.], dtype=float32)]"
            ]
          },
          "metadata": {},
          "execution_count": 8
        }
      ],
      "source": [
        "modelo.layers[0].get_weights()"
      ]
    },
    {
      "cell_type": "code",
      "execution_count": 9,
      "metadata": {
        "id": "oA_lncsr6N1q",
        "colab": {
          "base_uri": "https://localhost:8080/"
        },
        "outputId": "8eeca8f0-47ee-492e-af63-5686f1dcba2b"
      },
      "outputs": [
        {
          "output_type": "stream",
          "name": "stdout",
          "text": [
            "(2, 1)\n"
          ]
        },
        {
          "output_type": "execute_result",
          "data": {
            "text/plain": [
              "array([[-0.09132576],\n",
              "       [-0.16583812]], dtype=float32)"
            ]
          },
          "metadata": {},
          "execution_count": 9
        }
      ],
      "source": [
        "pesos, bias = modelo.layers[0].get_weights()\n",
        "print(pesos.shape)\n",
        "pesos"
      ]
    },
    {
      "cell_type": "code",
      "execution_count": 10,
      "metadata": {
        "id": "61nym5rs6Nvp",
        "colab": {
          "base_uri": "https://localhost:8080/"
        },
        "outputId": "ac1f57b9-9f01-4e40-d1e4-685e6e7dd3d3"
      },
      "outputs": [
        {
          "output_type": "stream",
          "name": "stdout",
          "text": [
            "(1,)\n"
          ]
        },
        {
          "output_type": "execute_result",
          "data": {
            "text/plain": [
              "array([0.], dtype=float32)"
            ]
          },
          "metadata": {},
          "execution_count": 10
        }
      ],
      "source": [
        "print(bias.shape)\n",
        "bias"
      ]
    },
    {
      "cell_type": "markdown",
      "metadata": {
        "id": "wt2K9dTAJO3N"
      },
      "source": [
        "##### Incializando"
      ]
    },
    {
      "cell_type": "markdown",
      "metadata": {
        "id": "XLELKvFrXhzv"
      },
      "source": [
        "É possivel definir os pesos e viéses antes de criar o modelo, para isso utilizamos dois paramentros:\n",
        "\n",
        "* `kernel_initializer`: inicializa a matriz de pesos do modelo; e\n",
        "* `bias_initializer`: inicializa os valores de viéses.\n",
        "\n",
        "Para definir os pesos iniciais, utilizamos dois métodos de [`keras.initializers`](https://keras.io/api/layers/initializers/):\n",
        "\n",
        "* `keras.initializers.RandomNormal()`, para os pesos; e\n",
        "* `keras.initializers.Ones()`, para o bias."
      ]
    },
    {
      "cell_type": "code",
      "execution_count": 12,
      "metadata": {
        "colab": {
          "base_uri": "https://localhost:8080/"
        },
        "id": "txFuGgSDckXA",
        "outputId": "4c95b6bc-69c6-45d0-9b9b-9fdcabfae998"
      },
      "outputs": [
        {
          "output_type": "execute_result",
          "data": {
            "text/plain": [
              "[array([[-0.04607588],\n",
              "        [-0.01905703]], dtype=float32),\n",
              " array([1.], dtype=float32)]"
            ]
          },
          "metadata": {},
          "execution_count": 12
        }
      ],
      "source": [
        "modelo = keras.Sequential([keras.layers.Dense(units=1, input_shape=[2], name='neuronio',\n",
        "                                              kernel_initializer = keras.initializers.RandomNormal(),\n",
        "                                              bias_initializer = keras.initializers.Ones())])\n",
        "modelo.layers[0].get_weights()"
      ]
    },
    {
      "cell_type": "markdown",
      "metadata": {
        "id": "1YQJCdoULkda"
      },
      "source": [
        "## Dados"
      ]
    },
    {
      "cell_type": "markdown",
      "metadata": {
        "id": "7k8Ty0H9Tg4D"
      },
      "source": [
        "O Iris dataset é um conjunto de dados bem conhecido na comunidade academica, esse conjunto de dados consiste em 50 amostras de cada uma das três espécies (150 amostras, no total) de Iris: *Iris setosa, Iris virginica e Iris versicolor*.\n",
        "\n",
        "Quatro variáveis foram medidas em cada amostra: o comprimento (*length*) e a largura (*width*) das sépalas (*Sepal*) e pétalas (*Petal*), em centímetros. Com base na combinação dessas quatro características, é possível distinguir as espécies umas das outras.\n",
        "\n",
        "![](https://kedro.readthedocs.io/en/0.17.5/_images/iris_measurements.png)\n",
        "\n",
        "Abaixo a representação dos três tipos de flores Iris.\n",
        "\n",
        "![](https://www.embedded-robotics.com/wp-content/uploads/2022/01/Iris-Dataset-Classification.png)"
      ]
    },
    {
      "cell_type": "markdown",
      "metadata": {
        "id": "zxWCoN5ssqmU"
      },
      "source": [
        "### Importando os dados"
      ]
    },
    {
      "cell_type": "markdown",
      "metadata": {
        "id": "X9mKiELXpCNw"
      },
      "source": [
        "É possivel realizar a coleta desse dataset através do método [`datasets`](https://scikit-learn.org/stable/modules/generated/sklearn.datasets.load_iris.html) da biblioteca `sklearn`."
      ]
    },
    {
      "cell_type": "code",
      "execution_count": 13,
      "metadata": {
        "id": "KzOberRC5nrB",
        "colab": {
          "base_uri": "https://localhost:8080/"
        },
        "collapsed": true,
        "outputId": "618a0447-ade5-463c-9ac6-5fd18a21112a"
      },
      "outputs": [
        {
          "output_type": "execute_result",
          "data": {
            "text/plain": [
              "array([[5.1, 3.5, 1.4, 0.2],\n",
              "       [4.9, 3. , 1.4, 0.2],\n",
              "       [4.7, 3.2, 1.3, 0.2],\n",
              "       [4.6, 3.1, 1.5, 0.2],\n",
              "       [5. , 3.6, 1.4, 0.2],\n",
              "       [5.4, 3.9, 1.7, 0.4],\n",
              "       [4.6, 3.4, 1.4, 0.3],\n",
              "       [5. , 3.4, 1.5, 0.2],\n",
              "       [4.4, 2.9, 1.4, 0.2],\n",
              "       [4.9, 3.1, 1.5, 0.1],\n",
              "       [5.4, 3.7, 1.5, 0.2],\n",
              "       [4.8, 3.4, 1.6, 0.2],\n",
              "       [4.8, 3. , 1.4, 0.1],\n",
              "       [4.3, 3. , 1.1, 0.1],\n",
              "       [5.8, 4. , 1.2, 0.2],\n",
              "       [5.7, 4.4, 1.5, 0.4],\n",
              "       [5.4, 3.9, 1.3, 0.4],\n",
              "       [5.1, 3.5, 1.4, 0.3],\n",
              "       [5.7, 3.8, 1.7, 0.3],\n",
              "       [5.1, 3.8, 1.5, 0.3],\n",
              "       [5.4, 3.4, 1.7, 0.2],\n",
              "       [5.1, 3.7, 1.5, 0.4],\n",
              "       [4.6, 3.6, 1. , 0.2],\n",
              "       [5.1, 3.3, 1.7, 0.5],\n",
              "       [4.8, 3.4, 1.9, 0.2],\n",
              "       [5. , 3. , 1.6, 0.2],\n",
              "       [5. , 3.4, 1.6, 0.4],\n",
              "       [5.2, 3.5, 1.5, 0.2],\n",
              "       [5.2, 3.4, 1.4, 0.2],\n",
              "       [4.7, 3.2, 1.6, 0.2],\n",
              "       [4.8, 3.1, 1.6, 0.2],\n",
              "       [5.4, 3.4, 1.5, 0.4],\n",
              "       [5.2, 4.1, 1.5, 0.1],\n",
              "       [5.5, 4.2, 1.4, 0.2],\n",
              "       [4.9, 3.1, 1.5, 0.2],\n",
              "       [5. , 3.2, 1.2, 0.2],\n",
              "       [5.5, 3.5, 1.3, 0.2],\n",
              "       [4.9, 3.6, 1.4, 0.1],\n",
              "       [4.4, 3. , 1.3, 0.2],\n",
              "       [5.1, 3.4, 1.5, 0.2],\n",
              "       [5. , 3.5, 1.3, 0.3],\n",
              "       [4.5, 2.3, 1.3, 0.3],\n",
              "       [4.4, 3.2, 1.3, 0.2],\n",
              "       [5. , 3.5, 1.6, 0.6],\n",
              "       [5.1, 3.8, 1.9, 0.4],\n",
              "       [4.8, 3. , 1.4, 0.3],\n",
              "       [5.1, 3.8, 1.6, 0.2],\n",
              "       [4.6, 3.2, 1.4, 0.2],\n",
              "       [5.3, 3.7, 1.5, 0.2],\n",
              "       [5. , 3.3, 1.4, 0.2],\n",
              "       [7. , 3.2, 4.7, 1.4],\n",
              "       [6.4, 3.2, 4.5, 1.5],\n",
              "       [6.9, 3.1, 4.9, 1.5],\n",
              "       [5.5, 2.3, 4. , 1.3],\n",
              "       [6.5, 2.8, 4.6, 1.5],\n",
              "       [5.7, 2.8, 4.5, 1.3],\n",
              "       [6.3, 3.3, 4.7, 1.6],\n",
              "       [4.9, 2.4, 3.3, 1. ],\n",
              "       [6.6, 2.9, 4.6, 1.3],\n",
              "       [5.2, 2.7, 3.9, 1.4],\n",
              "       [5. , 2. , 3.5, 1. ],\n",
              "       [5.9, 3. , 4.2, 1.5],\n",
              "       [6. , 2.2, 4. , 1. ],\n",
              "       [6.1, 2.9, 4.7, 1.4],\n",
              "       [5.6, 2.9, 3.6, 1.3],\n",
              "       [6.7, 3.1, 4.4, 1.4],\n",
              "       [5.6, 3. , 4.5, 1.5],\n",
              "       [5.8, 2.7, 4.1, 1. ],\n",
              "       [6.2, 2.2, 4.5, 1.5],\n",
              "       [5.6, 2.5, 3.9, 1.1],\n",
              "       [5.9, 3.2, 4.8, 1.8],\n",
              "       [6.1, 2.8, 4. , 1.3],\n",
              "       [6.3, 2.5, 4.9, 1.5],\n",
              "       [6.1, 2.8, 4.7, 1.2],\n",
              "       [6.4, 2.9, 4.3, 1.3],\n",
              "       [6.6, 3. , 4.4, 1.4],\n",
              "       [6.8, 2.8, 4.8, 1.4],\n",
              "       [6.7, 3. , 5. , 1.7],\n",
              "       [6. , 2.9, 4.5, 1.5],\n",
              "       [5.7, 2.6, 3.5, 1. ],\n",
              "       [5.5, 2.4, 3.8, 1.1],\n",
              "       [5.5, 2.4, 3.7, 1. ],\n",
              "       [5.8, 2.7, 3.9, 1.2],\n",
              "       [6. , 2.7, 5.1, 1.6],\n",
              "       [5.4, 3. , 4.5, 1.5],\n",
              "       [6. , 3.4, 4.5, 1.6],\n",
              "       [6.7, 3.1, 4.7, 1.5],\n",
              "       [6.3, 2.3, 4.4, 1.3],\n",
              "       [5.6, 3. , 4.1, 1.3],\n",
              "       [5.5, 2.5, 4. , 1.3],\n",
              "       [5.5, 2.6, 4.4, 1.2],\n",
              "       [6.1, 3. , 4.6, 1.4],\n",
              "       [5.8, 2.6, 4. , 1.2],\n",
              "       [5. , 2.3, 3.3, 1. ],\n",
              "       [5.6, 2.7, 4.2, 1.3],\n",
              "       [5.7, 3. , 4.2, 1.2],\n",
              "       [5.7, 2.9, 4.2, 1.3],\n",
              "       [6.2, 2.9, 4.3, 1.3],\n",
              "       [5.1, 2.5, 3. , 1.1],\n",
              "       [5.7, 2.8, 4.1, 1.3],\n",
              "       [6.3, 3.3, 6. , 2.5],\n",
              "       [5.8, 2.7, 5.1, 1.9],\n",
              "       [7.1, 3. , 5.9, 2.1],\n",
              "       [6.3, 2.9, 5.6, 1.8],\n",
              "       [6.5, 3. , 5.8, 2.2],\n",
              "       [7.6, 3. , 6.6, 2.1],\n",
              "       [4.9, 2.5, 4.5, 1.7],\n",
              "       [7.3, 2.9, 6.3, 1.8],\n",
              "       [6.7, 2.5, 5.8, 1.8],\n",
              "       [7.2, 3.6, 6.1, 2.5],\n",
              "       [6.5, 3.2, 5.1, 2. ],\n",
              "       [6.4, 2.7, 5.3, 1.9],\n",
              "       [6.8, 3. , 5.5, 2.1],\n",
              "       [5.7, 2.5, 5. , 2. ],\n",
              "       [5.8, 2.8, 5.1, 2.4],\n",
              "       [6.4, 3.2, 5.3, 2.3],\n",
              "       [6.5, 3. , 5.5, 1.8],\n",
              "       [7.7, 3.8, 6.7, 2.2],\n",
              "       [7.7, 2.6, 6.9, 2.3],\n",
              "       [6. , 2.2, 5. , 1.5],\n",
              "       [6.9, 3.2, 5.7, 2.3],\n",
              "       [5.6, 2.8, 4.9, 2. ],\n",
              "       [7.7, 2.8, 6.7, 2. ],\n",
              "       [6.3, 2.7, 4.9, 1.8],\n",
              "       [6.7, 3.3, 5.7, 2.1],\n",
              "       [7.2, 3.2, 6. , 1.8],\n",
              "       [6.2, 2.8, 4.8, 1.8],\n",
              "       [6.1, 3. , 4.9, 1.8],\n",
              "       [6.4, 2.8, 5.6, 2.1],\n",
              "       [7.2, 3. , 5.8, 1.6],\n",
              "       [7.4, 2.8, 6.1, 1.9],\n",
              "       [7.9, 3.8, 6.4, 2. ],\n",
              "       [6.4, 2.8, 5.6, 2.2],\n",
              "       [6.3, 2.8, 5.1, 1.5],\n",
              "       [6.1, 2.6, 5.6, 1.4],\n",
              "       [7.7, 3. , 6.1, 2.3],\n",
              "       [6.3, 3.4, 5.6, 2.4],\n",
              "       [6.4, 3.1, 5.5, 1.8],\n",
              "       [6. , 3. , 4.8, 1.8],\n",
              "       [6.9, 3.1, 5.4, 2.1],\n",
              "       [6.7, 3.1, 5.6, 2.4],\n",
              "       [6.9, 3.1, 5.1, 2.3],\n",
              "       [5.8, 2.7, 5.1, 1.9],\n",
              "       [6.8, 3.2, 5.9, 2.3],\n",
              "       [6.7, 3.3, 5.7, 2.5],\n",
              "       [6.7, 3. , 5.2, 2.3],\n",
              "       [6.3, 2.5, 5. , 1.9],\n",
              "       [6.5, 3. , 5.2, 2. ],\n",
              "       [6.2, 3.4, 5.4, 2.3],\n",
              "       [5.9, 3. , 5.1, 1.8]])"
            ]
          },
          "metadata": {},
          "execution_count": 13
        }
      ],
      "source": [
        "from sklearn import datasets\n",
        "\n",
        "iris = datasets.load_iris(return_X_y=True)\n",
        "x = iris[0]\n",
        "y = iris[1]\n",
        "x"
      ]
    },
    {
      "cell_type": "code",
      "execution_count": 15,
      "metadata": {
        "id": "jv49nxxE5nhg",
        "colab": {
          "base_uri": "https://localhost:8080/"
        },
        "outputId": "bb0dfd35-cb54-4318-9a60-ac4e8890a10d"
      },
      "outputs": [
        {
          "output_type": "execute_result",
          "data": {
            "text/plain": [
              "['sepal length (cm)',\n",
              " 'sepal width (cm)',\n",
              " 'petal length (cm)',\n",
              " 'petal width (cm)']"
            ]
          },
          "metadata": {},
          "execution_count": 15
        }
      ],
      "source": [
        "datasets.load_iris()['feature_names']"
      ]
    },
    {
      "cell_type": "code",
      "execution_count": 16,
      "metadata": {
        "id": "6P0T201o5nZ4",
        "colab": {
          "base_uri": "https://localhost:8080/"
        },
        "collapsed": true,
        "outputId": "1df202f3-32c9-4cca-ef19-7cc277920b4b"
      },
      "outputs": [
        {
          "output_type": "execute_result",
          "data": {
            "text/plain": [
              "array([0, 0, 0, 0, 0, 0, 0, 0, 0, 0, 0, 0, 0, 0, 0, 0, 0, 0, 0, 0, 0, 0,\n",
              "       0, 0, 0, 0, 0, 0, 0, 0, 0, 0, 0, 0, 0, 0, 0, 0, 0, 0, 0, 0, 0, 0,\n",
              "       0, 0, 0, 0, 0, 0, 1, 1, 1, 1, 1, 1, 1, 1, 1, 1, 1, 1, 1, 1, 1, 1,\n",
              "       1, 1, 1, 1, 1, 1, 1, 1, 1, 1, 1, 1, 1, 1, 1, 1, 1, 1, 1, 1, 1, 1,\n",
              "       1, 1, 1, 1, 1, 1, 1, 1, 1, 1, 1, 1, 2, 2, 2, 2, 2, 2, 2, 2, 2, 2,\n",
              "       2, 2, 2, 2, 2, 2, 2, 2, 2, 2, 2, 2, 2, 2, 2, 2, 2, 2, 2, 2, 2, 2,\n",
              "       2, 2, 2, 2, 2, 2, 2, 2, 2, 2, 2, 2, 2, 2, 2, 2, 2, 2])"
            ]
          },
          "metadata": {},
          "execution_count": 16
        }
      ],
      "source": [
        "y"
      ]
    },
    {
      "cell_type": "code",
      "execution_count": 17,
      "metadata": {
        "id": "-cCXUO3v5nTR",
        "colab": {
          "base_uri": "https://localhost:8080/"
        },
        "outputId": "f6918ffa-9bfa-4cdd-f681-ea6a1a364d7f"
      },
      "outputs": [
        {
          "output_type": "execute_result",
          "data": {
            "text/plain": [
              "array(['setosa', 'versicolor', 'virginica'], dtype='<U10')"
            ]
          },
          "metadata": {},
          "execution_count": 17
        }
      ],
      "source": [
        "datasets.load_iris()['target_names']"
      ]
    },
    {
      "cell_type": "code",
      "execution_count": 18,
      "metadata": {
        "colab": {
          "base_uri": "https://localhost:8080/",
          "height": 484
        },
        "id": "NFKqc9HDckXB",
        "outputId": "3191ac09-5de2-405f-8ac3-f56f708221d6"
      },
      "outputs": [
        {
          "output_type": "display_data",
          "data": {
            "text/plain": [
              "<Figure size 640x480 with 1 Axes>"
            ],
            "image/png": "[encoded data removed]"
          },
          "metadata": {}
        }
      ],
      "source": [
        "import matplotlib.pyplot as plt\n",
        "import seaborn as sns\n",
        "\n",
        "sns.scatterplot(x=x[:,2],y=x[:,3],hue=y,palette='tab10')\n",
        "plt.xlabel('comprimento (cm)',fontsize =16)\n",
        "plt.ylabel('largura (cm)', fontsize=16)\n",
        "plt.title('Distribuição pétalas', fontsize = 18)\n",
        "plt.show()"
      ]
    },
    {
      "cell_type": "code",
      "execution_count": 19,
      "metadata": {
        "colab": {
          "base_uri": "https://localhost:8080/",
          "height": 484
        },
        "id": "oNg5IH4gckXC",
        "outputId": "27540d07-9efb-4363-e3de-1db9650ecfa8"
      },
      "outputs": [
        {
          "output_type": "display_data",
          "data": {
            "text/plain": [
              "<Figure size 640x480 with 1 Axes>"
            ],
            "image/png": "[encoded data removed]"
          },
          "metadata": {}
        }
      ],
      "source": [
        "sns.scatterplot(x = x[:,0], y = x[:,1], hue = y, palette = \"tab10\")\n",
        "plt.xlabel('comprimeto (cm)', fontsize = 16)\n",
        "plt.ylabel('largura (cm)', fontsize = 16)\n",
        "plt.title('Distribuição sépalas', fontsize = 18)\n",
        "plt.show()"
      ]
    },
    {
      "cell_type": "markdown",
      "metadata": {
        "id": "lUbXWgdpmcVr"
      },
      "source": [
        "### Tratamento"
      ]
    },
    {
      "cell_type": "markdown",
      "metadata": {
        "id": "zEcmmwllb7Fa"
      },
      "source": [
        "#### Categorização"
      ]
    },
    {
      "cell_type": "code",
      "execution_count": 20,
      "metadata": {
        "id": "8lxrugmF5dI6",
        "colab": {
          "base_uri": "https://localhost:8080/"
        },
        "outputId": "caf04e08-4f8c-4f19-bf64-c69d35a7264e"
      },
      "outputs": [
        {
          "output_type": "execute_result",
          "data": {
            "text/plain": [
              "(150,)"
            ]
          },
          "metadata": {},
          "execution_count": 20
        }
      ],
      "source": [
        "y.shape"
      ]
    },
    {
      "cell_type": "code",
      "execution_count": 21,
      "metadata": {
        "id": "8iU5wYRS5dDK",
        "colab": {
          "base_uri": "https://localhost:8080/"
        },
        "outputId": "62b3a7b5-de0a-45d4-a1bc-acb124811251"
      },
      "outputs": [
        {
          "output_type": "execute_result",
          "data": {
            "text/plain": [
              "(150, 3)"
            ]
          },
          "metadata": {},
          "execution_count": 21
        }
      ],
      "source": [
        "y = keras.utils.to_categorical(y)\n",
        "y.shape"
      ]
    },
    {
      "cell_type": "code",
      "execution_count": 22,
      "metadata": {
        "id": "Ldfp629B5c8x",
        "colab": {
          "base_uri": "https://localhost:8080/"
        },
        "collapsed": true,
        "outputId": "8bd8b154-c429-4360-8098-edfe70d7d1f8"
      },
      "outputs": [
        {
          "output_type": "execute_result",
          "data": {
            "text/plain": [
              "array([[1., 0., 0.],\n",
              "       [1., 0., 0.],\n",
              "       [1., 0., 0.],\n",
              "       [1., 0., 0.],\n",
              "       [1., 0., 0.],\n",
              "       [1., 0., 0.],\n",
              "       [1., 0., 0.],\n",
              "       [1., 0., 0.],\n",
              "       [1., 0., 0.],\n",
              "       [1., 0., 0.],\n",
              "       [1., 0., 0.],\n",
              "       [1., 0., 0.],\n",
              "       [1., 0., 0.],\n",
              "       [1., 0., 0.],\n",
              "       [1., 0., 0.],\n",
              "       [1., 0., 0.],\n",
              "       [1., 0., 0.],\n",
              "       [1., 0., 0.],\n",
              "       [1., 0., 0.],\n",
              "       [1., 0., 0.],\n",
              "       [1., 0., 0.],\n",
              "       [1., 0., 0.],\n",
              "       [1., 0., 0.],\n",
              "       [1., 0., 0.],\n",
              "       [1., 0., 0.],\n",
              "       [1., 0., 0.],\n",
              "       [1., 0., 0.],\n",
              "       [1., 0., 0.],\n",
              "       [1., 0., 0.],\n",
              "       [1., 0., 0.],\n",
              "       [1., 0., 0.],\n",
              "       [1., 0., 0.],\n",
              "       [1., 0., 0.],\n",
              "       [1., 0., 0.],\n",
              "       [1., 0., 0.],\n",
              "       [1., 0., 0.],\n",
              "       [1., 0., 0.],\n",
              "       [1., 0., 0.],\n",
              "       [1., 0., 0.],\n",
              "       [1., 0., 0.],\n",
              "       [1., 0., 0.],\n",
              "       [1., 0., 0.],\n",
              "       [1., 0., 0.],\n",
              "       [1., 0., 0.],\n",
              "       [1., 0., 0.],\n",
              "       [1., 0., 0.],\n",
              "       [1., 0., 0.],\n",
              "       [1., 0., 0.],\n",
              "       [1., 0., 0.],\n",
              "       [1., 0., 0.],\n",
              "       [0., 1., 0.],\n",
              "       [0., 1., 0.],\n",
              "       [0., 1., 0.],\n",
              "       [0., 1., 0.],\n",
              "       [0., 1., 0.],\n",
              "       [0., 1., 0.],\n",
              "       [0., 1., 0.],\n",
              "       [0., 1., 0.],\n",
              "       [0., 1., 0.],\n",
              "       [0., 1., 0.],\n",
              "       [0., 1., 0.],\n",
              "       [0., 1., 0.],\n",
              "       [0., 1., 0.],\n",
              "       [0., 1., 0.],\n",
              "       [0., 1., 0.],\n",
              "       [0., 1., 0.],\n",
              "       [0., 1., 0.],\n",
              "       [0., 1., 0.],\n",
              "       [0., 1., 0.],\n",
              "       [0., 1., 0.],\n",
              "       [0., 1., 0.],\n",
              "       [0., 1., 0.],\n",
              "       [0., 1., 0.],\n",
              "       [0., 1., 0.],\n",
              "       [0., 1., 0.],\n",
              "       [0., 1., 0.],\n",
              "       [0., 1., 0.],\n",
              "       [0., 1., 0.],\n",
              "       [0., 1., 0.],\n",
              "       [0., 1., 0.],\n",
              "       [0., 1., 0.],\n",
              "       [0., 1., 0.],\n",
              "       [0., 1., 0.],\n",
              "       [0., 1., 0.],\n",
              "       [0., 1., 0.],\n",
              "       [0., 1., 0.],\n",
              "       [0., 1., 0.],\n",
              "       [0., 1., 0.],\n",
              "       [0., 1., 0.],\n",
              "       [0., 1., 0.],\n",
              "       [0., 1., 0.],\n",
              "       [0., 1., 0.],\n",
              "       [0., 1., 0.],\n",
              "       [0., 1., 0.],\n",
              "       [0., 1., 0.],\n",
              "       [0., 1., 0.],\n",
              "       [0., 1., 0.],\n",
              "       [0., 1., 0.],\n",
              "       [0., 1., 0.],\n",
              "       [0., 1., 0.],\n",
              "       [0., 0., 1.],\n",
              "       [0., 0., 1.],\n",
              "       [0., 0., 1.],\n",
              "       [0., 0., 1.],\n",
              "       [0., 0., 1.],\n",
              "       [0., 0., 1.],\n",
              "       [0., 0., 1.],\n",
              "       [0., 0., 1.],\n",
              "       [0., 0., 1.],\n",
              "       [0., 0., 1.],\n",
              "       [0., 0., 1.],\n",
              "       [0., 0., 1.],\n",
              "       [0., 0., 1.],\n",
              "       [0., 0., 1.],\n",
              "       [0., 0., 1.],\n",
              "       [0., 0., 1.],\n",
              "       [0., 0., 1.],\n",
              "       [0., 0., 1.],\n",
              "       [0., 0., 1.],\n",
              "       [0., 0., 1.],\n",
              "       [0., 0., 1.],\n",
              "       [0., 0., 1.],\n",
              "       [0., 0., 1.],\n",
              "       [0., 0., 1.],\n",
              "       [0., 0., 1.],\n",
              "       [0., 0., 1.],\n",
              "       [0., 0., 1.],\n",
              "       [0., 0., 1.],\n",
              "       [0., 0., 1.],\n",
              "       [0., 0., 1.],\n",
              "       [0., 0., 1.],\n",
              "       [0., 0., 1.],\n",
              "       [0., 0., 1.],\n",
              "       [0., 0., 1.],\n",
              "       [0., 0., 1.],\n",
              "       [0., 0., 1.],\n",
              "       [0., 0., 1.],\n",
              "       [0., 0., 1.],\n",
              "       [0., 0., 1.],\n",
              "       [0., 0., 1.],\n",
              "       [0., 0., 1.],\n",
              "       [0., 0., 1.],\n",
              "       [0., 0., 1.],\n",
              "       [0., 0., 1.],\n",
              "       [0., 0., 1.],\n",
              "       [0., 0., 1.],\n",
              "       [0., 0., 1.],\n",
              "       [0., 0., 1.],\n",
              "       [0., 0., 1.],\n",
              "       [0., 0., 1.]])"
            ]
          },
          "metadata": {},
          "execution_count": 22
        }
      ],
      "source": [
        "y"
      ]
    },
    {
      "cell_type": "markdown",
      "metadata": {
        "id": "HvXqF0mjcA6T"
      },
      "source": [
        "#### Normalização\n",
        "\n",
        "Os dados serão normalizados entre [0, 1], para isso utilizamos o método [`MinMaxScaler`](https://scikit-learn.org/stable/modules/generated/sklearn.preprocessing.MinMaxScaler)"
      ]
    },
    {
      "cell_type": "code",
      "execution_count": 23,
      "metadata": {
        "id": "Mr8-P_FQ5baJ"
      },
      "outputs": [],
      "source": [
        "from sklearn.preprocessing import MinMaxScaler\n",
        "\n",
        "scaler = MinMaxScaler()\n",
        "x = scaler.fit_transform(x)"
      ]
    },
    {
      "cell_type": "markdown",
      "metadata": {
        "id": "4gFxAbq-B0fI"
      },
      "source": [
        "#### Separação de conjunto\n",
        "\n",
        "A separação em conjuntos de treino e teste garantem um melhor processo de criação do modelo. Esses conjuntos são definidos a partir do conjunto total de dados, o qual separameos por proporções:\n",
        "\n",
        "* **80%** - Treino\n",
        "* **20%** - Teste"
      ]
    },
    {
      "cell_type": "code",
      "execution_count": 24,
      "metadata": {
        "id": "b2Vy9GBW5U_5"
      },
      "outputs": [],
      "source": [
        "from sklearn.model_selection import train_test_split\n",
        "\n",
        "x_treino, x_teste, y_treino, y_teste = train_test_split(x,y,test_size = 0.2, stratify = y, random_state=42)"
      ]
    },
    {
      "cell_type": "code",
      "execution_count": 25,
      "metadata": {
        "id": "5LYxtRp75U4x",
        "colab": {
          "base_uri": "https://localhost:8080/"
        },
        "outputId": "06cad8e5-740f-4048-9303-cf4925d9b5a5"
      },
      "outputs": [
        {
          "output_type": "execute_result",
          "data": {
            "text/plain": [
              "(120, 4)"
            ]
          },
          "metadata": {},
          "execution_count": 25
        }
      ],
      "source": [
        "x_treino.shape"
      ]
    },
    {
      "cell_type": "code",
      "execution_count": 26,
      "metadata": {
        "id": "tP-_Mck_5Uxh",
        "colab": {
          "base_uri": "https://localhost:8080/"
        },
        "outputId": "2ece6aae-1978-4b08-f13e-7ffebed02048"
      },
      "outputs": [
        {
          "output_type": "execute_result",
          "data": {
            "text/plain": [
              "(30, 4)"
            ]
          },
          "metadata": {},
          "execution_count": 26
        }
      ],
      "source": [
        "x_teste.shape"
      ]
    },
    {
      "cell_type": "markdown",
      "metadata": {
        "id": "BMS-65LusijP"
      },
      "source": [
        "## Modelo - MLP"
      ]
    },
    {
      "cell_type": "markdown",
      "metadata": {
        "id": "ybG-0Kju1KiI"
      },
      "source": [
        "### Criação do modelo\n",
        "\n",
        "Fazemos um modelo MLP definido por 1 camada de entrada, 1 camada oculta e 1 camada de saída."
      ]
    },
    {
      "cell_type": "code",
      "execution_count": 29,
      "metadata": {
        "id": "JVXo39JO4_OZ"
      },
      "outputs": [],
      "source": [
        "modelo = keras.Sequential([keras.layers.InputLayer(input_shape=[4, ],name='entrada'),\n",
        "                           keras.layers.Dense(512,activation='relu', name='oculta',\n",
        "                                              kernel_initializer=keras.initializers.RandomNormal(seed=142)),\n",
        "                           keras.layers.Dense(3, activation='softmax', name='saida')])"
      ]
    },
    {
      "cell_type": "code",
      "execution_count": 30,
      "metadata": {
        "id": "8lN5nlK74_D6",
        "colab": {
          "base_uri": "https://localhost:8080/",
          "height": 193
        },
        "outputId": "32dd4597-2c7f-43ab-a959-e5bf3263f064"
      },
      "outputs": [
        {
          "output_type": "display_data",
          "data": {
            "text/plain": [
              "\u001b[1mModel: \"sequential_3\"\u001b[0m\n"
            ],
            "text/html": [
              "<pre style=\"white-space:pre;overflow-x:auto;line-height:normal;font-family:Menlo,'DejaVu Sans Mono',consolas,'Courier New',monospace\"><span style=\"font-weight: bold\">Model: \"sequential_3\"</span>\n",
              "</pre>\n"
            ]
          },
          "metadata": {}
        },
        {
          "output_type": "display_data",
          "data": {
            "text/plain": [
              "┏━━━━━━━━━━━━━━━━━━━━━━━━━━━━━━━━━━━━━━┳━━━━━━━━━━━━━━━━━━━━━━━━━━━━━┳━━━━━━━━━━━━━━━━━┓\n",
              "┃\u001b[1m \u001b[0m\u001b[1mLayer (type)                        \u001b[0m\u001b[1m \u001b[0m┃\u001b[1m \u001b[0m\u001b[1mOutput Shape               \u001b[0m\u001b[1m \u001b[0m┃\u001b[1m \u001b[0m\u001b[1m        Param #\u001b[0m\u001b[1m \u001b[0m┃\n",
              "┡━━━━━━━━━━━━━━━━━━━━━━━━━━━━━━━━━━━━━━╇━━━━━━━━━━━━━━━━━━━━━━━━━━━━━╇━━━━━━━━━━━━━━━━━┩\n",
              "│ oculta (\u001b[38;5;33mDense\u001b[0m)                       │ (\u001b[38;5;45mNone\u001b[0m, \u001b[38;5;34m512\u001b[0m)                 │           \u001b[38;5;34m2,560\u001b[0m │\n",
              "├──────────────────────────────────────┼─────────────────────────────┼─────────────────┤\n",
              "│ saida (\u001b[38;5;33mDense\u001b[0m)                        │ (\u001b[38;5;45mNone\u001b[0m, \u001b[38;5;34m3\u001b[0m)                   │           \u001b[38;5;34m1,539\u001b[0m │\n",
              "└──────────────────────────────────────┴─────────────────────────────┴─────────────────┘\n"
            ],
            "text/html": [
              "<pre style=\"white-space:pre;overflow-x:auto;line-height:normal;font-family:Menlo,'DejaVu Sans Mono',consolas,'Courier New',monospace\">┏━━━━━━━━━━━━━━━━━━━━━━━━━━━━━━━━━━━━━━┳━━━━━━━━━━━━━━━━━━━━━━━━━━━━━┳━━━━━━━━━━━━━━━━━┓\n",
              "┃<span style=\"font-weight: bold\"> Layer (type)                         </span>┃<span style=\"font-weight: bold\"> Output Shape                </span>┃<span style=\"font-weight: bold\">         Param # </span>┃\n",
              "┡━━━━━━━━━━━━━━━━━━━━━━━━━━━━━━━━━━━━━━╇━━━━━━━━━━━━━━━━━━━━━━━━━━━━━╇━━━━━━━━━━━━━━━━━┩\n",
              "│ oculta (<span style=\"color: #0087ff; text-decoration-color: #0087ff\">Dense</span>)                       │ (<span style=\"color: #00d7ff; text-decoration-color: #00d7ff\">None</span>, <span style=\"color: #00af00; text-decoration-color: #00af00\">512</span>)                 │           <span style=\"color: #00af00; text-decoration-color: #00af00\">2,560</span> │\n",
              "├──────────────────────────────────────┼─────────────────────────────┼─────────────────┤\n",
              "│ saida (<span style=\"color: #0087ff; text-decoration-color: #0087ff\">Dense</span>)                        │ (<span style=\"color: #00d7ff; text-decoration-color: #00d7ff\">None</span>, <span style=\"color: #00af00; text-decoration-color: #00af00\">3</span>)                   │           <span style=\"color: #00af00; text-decoration-color: #00af00\">1,539</span> │\n",
              "└──────────────────────────────────────┴─────────────────────────────┴─────────────────┘\n",
              "</pre>\n"
            ]
          },
          "metadata": {}
        },
        {
          "output_type": "display_data",
          "data": {
            "text/plain": [
              "\u001b[1m Total params: \u001b[0m\u001b[38;5;34m4,099\u001b[0m (16.01 KB)\n"
            ],
            "text/html": [
              "<pre style=\"white-space:pre;overflow-x:auto;line-height:normal;font-family:Menlo,'DejaVu Sans Mono',consolas,'Courier New',monospace\"><span style=\"font-weight: bold\"> Total params: </span><span style=\"color: #00af00; text-decoration-color: #00af00\">4,099</span> (16.01 KB)\n",
              "</pre>\n"
            ]
          },
          "metadata": {}
        },
        {
          "output_type": "display_data",
          "data": {
            "text/plain": [
              "\u001b[1m Trainable params: \u001b[0m\u001b[38;5;34m4,099\u001b[0m (16.01 KB)\n"
            ],
            "text/html": [
              "<pre style=\"white-space:pre;overflow-x:auto;line-height:normal;font-family:Menlo,'DejaVu Sans Mono',consolas,'Courier New',monospace\"><span style=\"font-weight: bold\"> Trainable params: </span><span style=\"color: #00af00; text-decoration-color: #00af00\">4,099</span> (16.01 KB)\n",
              "</pre>\n"
            ]
          },
          "metadata": {}
        },
        {
          "output_type": "display_data",
          "data": {
            "text/plain": [
              "\u001b[1m Non-trainable params: \u001b[0m\u001b[38;5;34m0\u001b[0m (0.00 B)\n"
            ],
            "text/html": [
              "<pre style=\"white-space:pre;overflow-x:auto;line-height:normal;font-family:Menlo,'DejaVu Sans Mono',consolas,'Courier New',monospace\"><span style=\"font-weight: bold\"> Non-trainable params: </span><span style=\"color: #00af00; text-decoration-color: #00af00\">0</span> (0.00 B)\n",
              "</pre>\n"
            ]
          },
          "metadata": {}
        }
      ],
      "source": [
        "modelo.summary()"
      ]
    },
    {
      "cell_type": "markdown",
      "metadata": {
        "id": "Qj3CF2Au2KyD"
      },
      "source": [
        "### Treinamento"
      ]
    },
    {
      "cell_type": "markdown",
      "metadata": {
        "id": "08Vvd91Rcgfs"
      },
      "source": [
        "#### Compilando o modelo\n",
        "\n",
        "Compilar o modelo se dá pelo método [`compile`](https://keras.io/api/models/model_training_apis/). Nessa etapa devemos especificar a função de perda e o otimizador a ser usado. Uma opção também é especificar as métricas a serem calculadas durante o treinamento e avaliação do modelo."
      ]
    },
    {
      "cell_type": "code",
      "execution_count": 31,
      "metadata": {
        "id": "nHNU9fOA42y6"
      },
      "outputs": [],
      "source": [
        "modelo.compile(loss = 'categorical_crossentropy',\n",
        "               optimizer = 'rmsprop',\n",
        "               metrics = ['categorical_accuracy'])"
      ]
    },
    {
      "cell_type": "markdown",
      "metadata": {
        "id": "4WF6jy7Pmfzf"
      },
      "source": [
        "**Explicação:**\n",
        "\n",
        "1. A perda escolhida foi a `'categorical_crossentropy'` pois os resultads em y são valores categóricos.\n",
        "2. O uso do otimizador `'rmsprop'` indica que iremos treinar o modelo baseado em gradiente descendente, que calcula a média móvel de gradientes quadrados para normalizar o gradiente (processo de retropropagação será aplicado ao realizar o treinamento).\n",
        "3. Por esse modelo ser um classificador simples, é interessante calcular o valor da acurácia durante o treino e validação."
      ]
    },
    {
      "cell_type": "markdown",
      "metadata": {
        "id": "2_iPYpyZcjLn"
      },
      "source": [
        "#### Treino\n",
        "\n",
        "O treinamento é feito com o método `fit`, sendo especificado as entredas e saídas esperadas de treino, épocas e também os dados de validação."
      ]
    },
    {
      "cell_type": "markdown",
      "metadata": {
        "id": "rEsIX9i-mtIe"
      },
      "source": [
        "**Explicação:**\n",
        "\n",
        "1. Para treinamento é preciso passar os dados de entradas e saídas do conjunto de treinamento.\n",
        "2. Nesse caso o número de épocas também é essencial pois o padrão da biblioteca é 1 época, o que não é tão bom para o aprendizado.\n",
        "3. Passamos também a porcentagem do conjunto de validação para serem considerados do conjunto de treino - 30% do conjunto de treino"
      ]
    },
    {
      "cell_type": "code",
      "execution_count": 32,
      "metadata": {
        "id": "evWZPYWJ4xya",
        "colab": {
          "base_uri": "https://localhost:8080/"
        },
        "collapsed": true,
        "outputId": "12765000-7ced-4a39-a602-670575c40f39"
      },
      "outputs": [
        {
          "output_type": "stream",
          "name": "stdout",
          "text": [
            "Epoch 1/100\n",
            "\u001b[1m3/3\u001b[0m \u001b[32m━━━━━━━━━━━━━━━━━━━━\u001b[0m\u001b[37m\u001b[0m \u001b[1m2s\u001b[0m 126ms/step - categorical_accuracy: 0.4529 - loss: 1.0838 - val_categorical_accuracy: 0.6389 - val_loss: 1.0161\n",
            "Epoch 2/100\n",
            "\u001b[1m3/3\u001b[0m \u001b[32m━━━━━━━━━━━━━━━━━━━━\u001b[0m\u001b[37m\u001b[0m \u001b[1m0s\u001b[0m 26ms/step - categorical_accuracy: 0.6752 - loss: 0.9995 - val_categorical_accuracy: 0.6389 - val_loss: 0.9664\n",
            "Epoch 3/100\n",
            "\u001b[1m3/3\u001b[0m \u001b[32m━━━━━━━━━━━━━━━━━━━━\u001b[0m\u001b[37m\u001b[0m \u001b[1m0s\u001b[0m 18ms/step - categorical_accuracy: 0.6791 - loss: 0.9471 - val_categorical_accuracy: 0.6389 - val_loss: 0.9261\n",
            "Epoch 4/100\n",
            "\u001b[1m3/3\u001b[0m \u001b[32m━━━━━━━━━━━━━━━━━━━━\u001b[0m\u001b[37m\u001b[0m \u001b[1m0s\u001b[0m 18ms/step - categorical_accuracy: 0.6674 - loss: 0.9069 - val_categorical_accuracy: 0.6389 - val_loss: 0.8911\n",
            "Epoch 5/100\n",
            "\u001b[1m3/3\u001b[0m \u001b[32m━━━━━━━━━━━━━━━━━━━━\u001b[0m\u001b[37m\u001b[0m \u001b[1m0s\u001b[0m 18ms/step - categorical_accuracy: 0.6557 - loss: 0.8668 - val_categorical_accuracy: 0.6389 - val_loss: 0.8588\n",
            "Epoch 6/100\n",
            "\u001b[1m3/3\u001b[0m \u001b[32m━━━━━━━━━━━━━━━━━━━━\u001b[0m\u001b[37m\u001b[0m \u001b[1m0s\u001b[0m 21ms/step - categorical_accuracy: 0.6596 - loss: 0.8347 - val_categorical_accuracy: 0.6389 - val_loss: 0.8308\n",
            "Epoch 7/100\n",
            "\u001b[1m3/3\u001b[0m \u001b[32m━━━━━━━━━━━━━━━━━━━━\u001b[0m\u001b[37m\u001b[0m \u001b[1m0s\u001b[0m 26ms/step - categorical_accuracy: 0.6323 - loss: 0.8191 - val_categorical_accuracy: 0.6389 - val_loss: 0.8030\n",
            "Epoch 8/100\n",
            "\u001b[1m3/3\u001b[0m \u001b[32m━━━━━━━━━━━━━━━━━━━━\u001b[0m\u001b[37m\u001b[0m \u001b[1m0s\u001b[0m 27ms/step - categorical_accuracy: 0.6752 - loss: 0.7658 - val_categorical_accuracy: 0.6389 - val_loss: 0.7757\n",
            "Epoch 9/100\n",
            "\u001b[1m3/3\u001b[0m \u001b[32m━━━━━━━━━━━━━━━━━━━━\u001b[0m\u001b[37m\u001b[0m \u001b[1m0s\u001b[0m 19ms/step - categorical_accuracy: 0.7026 - loss: 0.7261 - val_categorical_accuracy: 0.6389 - val_loss: 0.7510\n",
            "Epoch 10/100\n",
            "\u001b[1m3/3\u001b[0m \u001b[32m━━━━━━━━━━━━━━━━━━━━\u001b[0m\u001b[37m\u001b[0m \u001b[1m0s\u001b[0m 27ms/step - categorical_accuracy: 0.6323 - loss: 0.7297 - val_categorical_accuracy: 0.6389 - val_loss: 0.7294\n",
            "Epoch 11/100\n",
            "\u001b[1m3/3\u001b[0m \u001b[32m━━━━━━━━━━━━━━━━━━━━\u001b[0m\u001b[37m\u001b[0m \u001b[1m0s\u001b[0m 19ms/step - categorical_accuracy: 0.6948 - loss: 0.6803 - val_categorical_accuracy: 0.6389 - val_loss: 0.7048\n",
            "Epoch 12/100\n",
            "\u001b[1m3/3\u001b[0m \u001b[32m━━━━━━━━━━━━━━━━━━━━\u001b[0m\u001b[37m\u001b[0m \u001b[1m0s\u001b[0m 23ms/step - categorical_accuracy: 0.6752 - loss: 0.6741 - val_categorical_accuracy: 0.6389 - val_loss: 0.6841\n",
            "Epoch 13/100\n",
            "\u001b[1m3/3\u001b[0m \u001b[32m━━━━━━━━━━━━━━━━━━━━\u001b[0m\u001b[37m\u001b[0m \u001b[1m0s\u001b[0m 19ms/step - categorical_accuracy: 0.6635 - loss: 0.6405 - val_categorical_accuracy: 0.6389 - val_loss: 0.6650\n",
            "Epoch 14/100\n",
            "\u001b[1m3/3\u001b[0m \u001b[32m━━━━━━━━━━━━━━━━━━━━\u001b[0m\u001b[37m\u001b[0m \u001b[1m0s\u001b[0m 17ms/step - categorical_accuracy: 0.6713 - loss: 0.6266 - val_categorical_accuracy: 0.6389 - val_loss: 0.6448\n",
            "Epoch 15/100\n",
            "\u001b[1m3/3\u001b[0m \u001b[32m━━━━━━━━━━━━━━━━━━━━\u001b[0m\u001b[37m\u001b[0m \u001b[1m0s\u001b[0m 26ms/step - categorical_accuracy: 0.6713 - loss: 0.5927 - val_categorical_accuracy: 0.6389 - val_loss: 0.6293\n",
            "Epoch 16/100\n",
            "\u001b[1m3/3\u001b[0m \u001b[32m━━━━━━━━━━━━━━━━━━━━\u001b[0m\u001b[37m\u001b[0m \u001b[1m0s\u001b[0m 29ms/step - categorical_accuracy: 0.6518 - loss: 0.5928 - val_categorical_accuracy: 0.6389 - val_loss: 0.6146\n",
            "Epoch 17/100\n",
            "\u001b[1m3/3\u001b[0m \u001b[32m━━━━━━━━━━━━━━━━━━━━\u001b[0m\u001b[37m\u001b[0m \u001b[1m0s\u001b[0m 30ms/step - categorical_accuracy: 0.6713 - loss: 0.5680 - val_categorical_accuracy: 0.6389 - val_loss: 0.5962\n",
            "Epoch 18/100\n",
            "\u001b[1m3/3\u001b[0m \u001b[32m━━━━━━━━━━━━━━━━━━━━\u001b[0m\u001b[37m\u001b[0m \u001b[1m0s\u001b[0m 20ms/step - categorical_accuracy: 0.6948 - loss: 0.5473 - val_categorical_accuracy: 0.6667 - val_loss: 0.5791\n",
            "Epoch 19/100\n",
            "\u001b[1m3/3\u001b[0m \u001b[32m━━━━━━━━━━━━━━━━━━━━\u001b[0m\u001b[37m\u001b[0m \u001b[1m0s\u001b[0m 18ms/step - categorical_accuracy: 0.7106 - loss: 0.5267 - val_categorical_accuracy: 0.6667 - val_loss: 0.5643\n",
            "Epoch 20/100\n",
            "\u001b[1m3/3\u001b[0m \u001b[32m━━━━━━━━━━━━━━━━━━━━\u001b[0m\u001b[37m\u001b[0m \u001b[1m0s\u001b[0m 26ms/step - categorical_accuracy: 0.7400 - loss: 0.5198 - val_categorical_accuracy: 0.7222 - val_loss: 0.5502\n",
            "Epoch 21/100\n",
            "\u001b[1m3/3\u001b[0m \u001b[32m━━━━━━━━━━━━━━━━━━━━\u001b[0m\u001b[37m\u001b[0m \u001b[1m0s\u001b[0m 17ms/step - categorical_accuracy: 0.7853 - loss: 0.5221 - val_categorical_accuracy: 0.7222 - val_loss: 0.5372\n",
            "Epoch 22/100\n",
            "\u001b[1m3/3\u001b[0m \u001b[32m━━━━━━━━━━━━━━━━━━━━\u001b[0m\u001b[37m\u001b[0m \u001b[1m0s\u001b[0m 18ms/step - categorical_accuracy: 0.7560 - loss: 0.5089 - val_categorical_accuracy: 0.6667 - val_loss: 0.5253\n",
            "Epoch 23/100\n",
            "\u001b[1m3/3\u001b[0m \u001b[32m━━━━━━━━━━━━━━━━━━━━\u001b[0m\u001b[37m\u001b[0m \u001b[1m0s\u001b[0m 20ms/step - categorical_accuracy: 0.7656 - loss: 0.4673 - val_categorical_accuracy: 0.7222 - val_loss: 0.5129\n",
            "Epoch 24/100\n",
            "\u001b[1m3/3\u001b[0m \u001b[32m━━━━━━━━━━━━━━━━━━━━\u001b[0m\u001b[37m\u001b[0m \u001b[1m0s\u001b[0m 18ms/step - categorical_accuracy: 0.7321 - loss: 0.4706 - val_categorical_accuracy: 0.8333 - val_loss: 0.5008\n",
            "Epoch 25/100\n",
            "\u001b[1m3/3\u001b[0m \u001b[32m━━━━━━━━━━━━━━━━━━━━\u001b[0m\u001b[37m\u001b[0m \u001b[1m0s\u001b[0m 17ms/step - categorical_accuracy: 0.8346 - loss: 0.4719 - val_categorical_accuracy: 0.7778 - val_loss: 0.4900\n",
            "Epoch 26/100\n",
            "\u001b[1m3/3\u001b[0m \u001b[32m━━━━━━━━━━━━━━━━━━━━\u001b[0m\u001b[37m\u001b[0m \u001b[1m0s\u001b[0m 18ms/step - categorical_accuracy: 0.8170 - loss: 0.4766 - val_categorical_accuracy: 0.7778 - val_loss: 0.4806\n",
            "Epoch 27/100\n",
            "\u001b[1m3/3\u001b[0m \u001b[32m━━━━━━━━━━━━━━━━━━━━\u001b[0m\u001b[37m\u001b[0m \u001b[1m0s\u001b[0m 26ms/step - categorical_accuracy: 0.8642 - loss: 0.4390 - val_categorical_accuracy: 0.7778 - val_loss: 0.4725\n",
            "Epoch 28/100\n",
            "\u001b[1m3/3\u001b[0m \u001b[32m━━━━━━━━━━━━━━━━━━━━\u001b[0m\u001b[37m\u001b[0m \u001b[1m0s\u001b[0m 30ms/step - categorical_accuracy: 0.8168 - loss: 0.4127 - val_categorical_accuracy: 0.8889 - val_loss: 0.4605\n",
            "Epoch 29/100\n",
            "\u001b[1m3/3\u001b[0m \u001b[32m━━━━━━━━━━━━━━━━━━━━\u001b[0m\u001b[37m\u001b[0m \u001b[1m0s\u001b[0m 26ms/step - categorical_accuracy: 0.8917 - loss: 0.4411 - val_categorical_accuracy: 0.8889 - val_loss: 0.4513\n",
            "Epoch 30/100\n",
            "\u001b[1m3/3\u001b[0m \u001b[32m━━━━━━━━━━━━━━━━━━━━\u001b[0m\u001b[37m\u001b[0m \u001b[1m0s\u001b[0m 25ms/step - categorical_accuracy: 0.9014 - loss: 0.4087 - val_categorical_accuracy: 0.9167 - val_loss: 0.4422\n",
            "Epoch 31/100\n",
            "\u001b[1m3/3\u001b[0m \u001b[32m━━━━━━━━━━━━━━━━━━━━\u001b[0m\u001b[37m\u001b[0m \u001b[1m0s\u001b[0m 17ms/step - categorical_accuracy: 0.9269 - loss: 0.4065 - val_categorical_accuracy: 0.8889 - val_loss: 0.4336\n",
            "Epoch 32/100\n",
            "\u001b[1m3/3\u001b[0m \u001b[32m━━━━━━━━━━━━━━━━━━━━\u001b[0m\u001b[37m\u001b[0m \u001b[1m0s\u001b[0m 26ms/step - categorical_accuracy: 0.9094 - loss: 0.3722 - val_categorical_accuracy: 0.8056 - val_loss: 0.4282\n",
            "Epoch 33/100\n",
            "\u001b[1m3/3\u001b[0m \u001b[32m━━━━━━━━━━━━━━━━━━━━\u001b[0m\u001b[37m\u001b[0m \u001b[1m0s\u001b[0m 18ms/step - categorical_accuracy: 0.8722 - loss: 0.4056 - val_categorical_accuracy: 0.8889 - val_loss: 0.4173\n",
            "Epoch 34/100\n",
            "\u001b[1m3/3\u001b[0m \u001b[32m━━━━━━━━━━━━━━━━━━━━\u001b[0m\u001b[37m\u001b[0m \u001b[1m0s\u001b[0m 22ms/step - categorical_accuracy: 0.8956 - loss: 0.3983 - val_categorical_accuracy: 0.9167 - val_loss: 0.4083\n",
            "Epoch 35/100\n",
            "\u001b[1m3/3\u001b[0m \u001b[32m━━━━━━━━━━━━━━━━━━━━\u001b[0m\u001b[37m\u001b[0m \u001b[1m0s\u001b[0m 25ms/step - categorical_accuracy: 0.9172 - loss: 0.3576 - val_categorical_accuracy: 0.9722 - val_loss: 0.4008\n",
            "Epoch 36/100\n",
            "\u001b[1m3/3\u001b[0m \u001b[32m━━━━━━━━━━━━━━━━━━━━\u001b[0m\u001b[37m\u001b[0m \u001b[1m0s\u001b[0m 27ms/step - categorical_accuracy: 0.9036 - loss: 0.3890 - val_categorical_accuracy: 0.9167 - val_loss: 0.3941\n",
            "Epoch 37/100\n",
            "\u001b[1m3/3\u001b[0m \u001b[32m━━━━━━━━━━━━━━━━━━━━\u001b[0m\u001b[37m\u001b[0m \u001b[1m0s\u001b[0m 24ms/step - categorical_accuracy: 0.9113 - loss: 0.3514 - val_categorical_accuracy: 0.9167 - val_loss: 0.3882\n",
            "Epoch 38/100\n",
            "\u001b[1m3/3\u001b[0m \u001b[32m━━━━━━━━━━━━━━━━━━━━\u001b[0m\u001b[37m\u001b[0m \u001b[1m0s\u001b[0m 19ms/step - categorical_accuracy: 0.8878 - loss: 0.3579 - val_categorical_accuracy: 0.9722 - val_loss: 0.3800\n",
            "Epoch 39/100\n",
            "\u001b[1m3/3\u001b[0m \u001b[32m━━━━━━━━━━━━━━━━━━━━\u001b[0m\u001b[37m\u001b[0m \u001b[1m0s\u001b[0m 27ms/step - categorical_accuracy: 0.9172 - loss: 0.3631 - val_categorical_accuracy: 0.9444 - val_loss: 0.3731\n",
            "Epoch 40/100\n",
            "\u001b[1m3/3\u001b[0m \u001b[32m━━━━━━━━━━━━━━━━━━━━\u001b[0m\u001b[37m\u001b[0m \u001b[1m0s\u001b[0m 19ms/step - categorical_accuracy: 0.9213 - loss: 0.3683 - val_categorical_accuracy: 0.9167 - val_loss: 0.3673\n",
            "Epoch 41/100\n",
            "\u001b[1m3/3\u001b[0m \u001b[32m━━━━━━━━━━━━━━━━━━━━\u001b[0m\u001b[37m\u001b[0m \u001b[1m0s\u001b[0m 17ms/step - categorical_accuracy: 0.9191 - loss: 0.3359 - val_categorical_accuracy: 0.9444 - val_loss: 0.3604\n",
            "Epoch 42/100\n",
            "\u001b[1m3/3\u001b[0m \u001b[32m━━━━━━━━━━━━━━━━━━━━\u001b[0m\u001b[37m\u001b[0m \u001b[1m0s\u001b[0m 18ms/step - categorical_accuracy: 0.8940 - loss: 0.3663 - val_categorical_accuracy: 0.9167 - val_loss: 0.3556\n",
            "Epoch 43/100\n",
            "\u001b[1m3/3\u001b[0m \u001b[32m━━━━━━━━━━━━━━━━━━━━\u001b[0m\u001b[37m\u001b[0m \u001b[1m0s\u001b[0m 18ms/step - categorical_accuracy: 0.9388 - loss: 0.2941 - val_categorical_accuracy: 0.9722 - val_loss: 0.3472\n",
            "Epoch 44/100\n",
            "\u001b[1m3/3\u001b[0m \u001b[32m━━━━━━━━━━━━━━━━━━━━\u001b[0m\u001b[37m\u001b[0m \u001b[1m0s\u001b[0m 27ms/step - categorical_accuracy: 0.9115 - loss: 0.3070 - val_categorical_accuracy: 0.9722 - val_loss: 0.3415\n",
            "Epoch 45/100\n",
            "\u001b[1m3/3\u001b[0m \u001b[32m━━━━━━━━━━━━━━━━━━━━\u001b[0m\u001b[37m\u001b[0m \u001b[1m0s\u001b[0m 19ms/step - categorical_accuracy: 0.9273 - loss: 0.3118 - val_categorical_accuracy: 0.9167 - val_loss: 0.3411\n",
            "Epoch 46/100\n",
            "\u001b[1m3/3\u001b[0m \u001b[32m━━━━━━━━━━━━━━━━━━━━\u001b[0m\u001b[37m\u001b[0m \u001b[1m0s\u001b[0m 18ms/step - categorical_accuracy: 0.8996 - loss: 0.3196 - val_categorical_accuracy: 0.9722 - val_loss: 0.3293\n",
            "Epoch 47/100\n",
            "\u001b[1m3/3\u001b[0m \u001b[32m━━━━━━━━━━━━━━━━━━━━\u001b[0m\u001b[37m\u001b[0m \u001b[1m0s\u001b[0m 27ms/step - categorical_accuracy: 0.9271 - loss: 0.3152 - val_categorical_accuracy: 0.9722 - val_loss: 0.3257\n",
            "Epoch 48/100\n",
            "\u001b[1m3/3\u001b[0m \u001b[32m━━━━━━━━━━━━━━━━━━━━\u001b[0m\u001b[37m\u001b[0m \u001b[1m0s\u001b[0m 21ms/step - categorical_accuracy: 0.9626 - loss: 0.2970 - val_categorical_accuracy: 0.9722 - val_loss: 0.3192\n",
            "Epoch 49/100\n",
            "\u001b[1m3/3\u001b[0m \u001b[32m━━━━━━━━━━━━━━━━━━━━\u001b[0m\u001b[37m\u001b[0m \u001b[1m0s\u001b[0m 61ms/step - categorical_accuracy: 0.9312 - loss: 0.3059 - val_categorical_accuracy: 0.9444 - val_loss: 0.3153\n",
            "Epoch 50/100\n",
            "\u001b[1m3/3\u001b[0m \u001b[32m━━━━━━━━━━━━━━━━━━━━\u001b[0m\u001b[37m\u001b[0m \u001b[1m0s\u001b[0m 94ms/step - categorical_accuracy: 0.9154 - loss: 0.2930 - val_categorical_accuracy: 0.9722 - val_loss: 0.3099\n",
            "Epoch 51/100\n",
            "\u001b[1m3/3\u001b[0m \u001b[32m━━━━━━━━━━━━━━━━━━━━\u001b[0m\u001b[37m\u001b[0m \u001b[1m0s\u001b[0m 72ms/step - categorical_accuracy: 0.9704 - loss: 0.2818 - val_categorical_accuracy: 0.9722 - val_loss: 0.3041\n",
            "Epoch 52/100\n",
            "\u001b[1m3/3\u001b[0m \u001b[32m━━━━━━━━━━━━━━━━━━━━\u001b[0m\u001b[37m\u001b[0m \u001b[1m1s\u001b[0m 74ms/step - categorical_accuracy: 0.9488 - loss: 0.2873 - val_categorical_accuracy: 0.9722 - val_loss: 0.2988\n",
            "Epoch 53/100\n",
            "\u001b[1m3/3\u001b[0m \u001b[32m━━━━━━━━━━━━━━━━━━━━\u001b[0m\u001b[37m\u001b[0m \u001b[1m0s\u001b[0m 17ms/step - categorical_accuracy: 0.9312 - loss: 0.2967 - val_categorical_accuracy: 0.9444 - val_loss: 0.2975\n",
            "Epoch 54/100\n",
            "\u001b[1m3/3\u001b[0m \u001b[32m━━━━━━━━━━━━━━━━━━━━\u001b[0m\u001b[37m\u001b[0m \u001b[1m0s\u001b[0m 18ms/step - categorical_accuracy: 0.9076 - loss: 0.2693 - val_categorical_accuracy: 1.0000 - val_loss: 0.2883\n",
            "Epoch 55/100\n",
            "\u001b[1m3/3\u001b[0m \u001b[32m━━━━━━━━━━━━━━━━━━━━\u001b[0m\u001b[37m\u001b[0m \u001b[1m0s\u001b[0m 29ms/step - categorical_accuracy: 0.9448 - loss: 0.2455 - val_categorical_accuracy: 0.9722 - val_loss: 0.2846\n",
            "Epoch 56/100\n",
            "\u001b[1m3/3\u001b[0m \u001b[32m━━━━━━━━━━━━━━━━━━━━\u001b[0m\u001b[37m\u001b[0m \u001b[1m0s\u001b[0m 29ms/step - categorical_accuracy: 0.9468 - loss: 0.2638 - val_categorical_accuracy: 0.9722 - val_loss: 0.2801\n",
            "Epoch 57/100\n",
            "\u001b[1m3/3\u001b[0m \u001b[32m━━━━━━━━━━━━━━━━━━━━\u001b[0m\u001b[37m\u001b[0m \u001b[1m0s\u001b[0m 25ms/step - categorical_accuracy: 0.9684 - loss: 0.2556 - val_categorical_accuracy: 0.9722 - val_loss: 0.2736\n",
            "Epoch 58/100\n",
            "\u001b[1m3/3\u001b[0m \u001b[32m━━━━━━━━━━━━━━━━━━━━\u001b[0m\u001b[37m\u001b[0m \u001b[1m0s\u001b[0m 18ms/step - categorical_accuracy: 0.9488 - loss: 0.2613 - val_categorical_accuracy: 0.9444 - val_loss: 0.2747\n",
            "Epoch 59/100\n",
            "\u001b[1m3/3\u001b[0m \u001b[32m━━━━━━━━━━━━━━━━━━━━\u001b[0m\u001b[37m\u001b[0m \u001b[1m0s\u001b[0m 20ms/step - categorical_accuracy: 0.9115 - loss: 0.2541 - val_categorical_accuracy: 0.9722 - val_loss: 0.2649\n",
            "Epoch 60/100\n",
            "\u001b[1m3/3\u001b[0m \u001b[32m━━━━━━━━━━━━━━━━━━━━\u001b[0m\u001b[37m\u001b[0m \u001b[1m0s\u001b[0m 17ms/step - categorical_accuracy: 0.9351 - loss: 0.2605 - val_categorical_accuracy: 0.9722 - val_loss: 0.2599\n",
            "Epoch 61/100\n",
            "\u001b[1m3/3\u001b[0m \u001b[32m━━━━━━━━━━━━━━━━━━━━\u001b[0m\u001b[37m\u001b[0m \u001b[1m0s\u001b[0m 26ms/step - categorical_accuracy: 0.9528 - loss: 0.2378 - val_categorical_accuracy: 0.9722 - val_loss: 0.2557\n",
            "Epoch 62/100\n",
            "\u001b[1m3/3\u001b[0m \u001b[32m━━━━━━━━━━━━━━━━━━━━\u001b[0m\u001b[37m\u001b[0m \u001b[1m0s\u001b[0m 18ms/step - categorical_accuracy: 0.9213 - loss: 0.2517 - val_categorical_accuracy: 0.9722 - val_loss: 0.2523\n",
            "Epoch 63/100\n",
            "\u001b[1m3/3\u001b[0m \u001b[32m━━━━━━━━━━━━━━━━━━━━\u001b[0m\u001b[37m\u001b[0m \u001b[1m0s\u001b[0m 18ms/step - categorical_accuracy: 0.9684 - loss: 0.2304 - val_categorical_accuracy: 1.0000 - val_loss: 0.2458\n",
            "Epoch 64/100\n",
            "\u001b[1m3/3\u001b[0m \u001b[32m━━━━━━━━━━━━━━━━━━━━\u001b[0m\u001b[37m\u001b[0m \u001b[1m0s\u001b[0m 17ms/step - categorical_accuracy: 0.9330 - loss: 0.2242 - val_categorical_accuracy: 0.9722 - val_loss: 0.2405\n",
            "Epoch 65/100\n",
            "\u001b[1m3/3\u001b[0m \u001b[32m━━━━━━━━━━━━━━━━━━━━\u001b[0m\u001b[37m\u001b[0m \u001b[1m0s\u001b[0m 28ms/step - categorical_accuracy: 0.9548 - loss: 0.2171 - val_categorical_accuracy: 0.9167 - val_loss: 0.2480\n",
            "Epoch 66/100\n",
            "\u001b[1m3/3\u001b[0m \u001b[32m━━━━━━━━━━━━━━━━━━━━\u001b[0m\u001b[37m\u001b[0m \u001b[1m0s\u001b[0m 29ms/step - categorical_accuracy: 0.9429 - loss: 0.2295 - val_categorical_accuracy: 0.9722 - val_loss: 0.2370\n",
            "Epoch 67/100\n",
            "\u001b[1m3/3\u001b[0m \u001b[32m━━━━━━━━━━━━━━━━━━━━\u001b[0m\u001b[37m\u001b[0m \u001b[1m0s\u001b[0m 26ms/step - categorical_accuracy: 0.9371 - loss: 0.2167 - val_categorical_accuracy: 1.0000 - val_loss: 0.2285\n",
            "Epoch 68/100\n",
            "\u001b[1m3/3\u001b[0m \u001b[32m━━━━━━━━━━━━━━━━━━━━\u001b[0m\u001b[37m\u001b[0m \u001b[1m0s\u001b[0m 24ms/step - categorical_accuracy: 0.9645 - loss: 0.2116 - val_categorical_accuracy: 0.9444 - val_loss: 0.2270\n",
            "Epoch 69/100\n",
            "\u001b[1m3/3\u001b[0m \u001b[32m━━━━━━━━━━━━━━━━━━━━\u001b[0m\u001b[37m\u001b[0m \u001b[1m0s\u001b[0m 30ms/step - categorical_accuracy: 0.9665 - loss: 0.2210 - val_categorical_accuracy: 0.9722 - val_loss: 0.2206\n",
            "Epoch 70/100\n",
            "\u001b[1m3/3\u001b[0m \u001b[32m━━━━━━━━━━━━━━━━━━━━\u001b[0m\u001b[37m\u001b[0m \u001b[1m0s\u001b[0m 19ms/step - categorical_accuracy: 0.9410 - loss: 0.2173 - val_categorical_accuracy: 0.9722 - val_loss: 0.2244\n",
            "Epoch 71/100\n",
            "\u001b[1m3/3\u001b[0m \u001b[32m━━━━━━━━━━━━━━━━━━━━\u001b[0m\u001b[37m\u001b[0m \u001b[1m0s\u001b[0m 19ms/step - categorical_accuracy: 0.9390 - loss: 0.1960 - val_categorical_accuracy: 0.9722 - val_loss: 0.2152\n",
            "Epoch 72/100\n",
            "\u001b[1m3/3\u001b[0m \u001b[32m━━━━━━━━━━━━━━━━━━━━\u001b[0m\u001b[37m\u001b[0m \u001b[1m0s\u001b[0m 18ms/step - categorical_accuracy: 0.9723 - loss: 0.1951 - val_categorical_accuracy: 0.9722 - val_loss: 0.2128\n",
            "Epoch 73/100\n",
            "\u001b[1m3/3\u001b[0m \u001b[32m━━━━━━━━━━━━━━━━━━━━\u001b[0m\u001b[37m\u001b[0m \u001b[1m0s\u001b[0m 18ms/step - categorical_accuracy: 0.9587 - loss: 0.2037 - val_categorical_accuracy: 0.9722 - val_loss: 0.2146\n",
            "Epoch 74/100\n",
            "\u001b[1m3/3\u001b[0m \u001b[32m━━━━━━━━━━━━━━━━━━━━\u001b[0m\u001b[37m\u001b[0m \u001b[1m0s\u001b[0m 19ms/step - categorical_accuracy: 0.9115 - loss: 0.1999 - val_categorical_accuracy: 0.9722 - val_loss: 0.2057\n",
            "Epoch 75/100\n",
            "\u001b[1m3/3\u001b[0m \u001b[32m━━━━━━━━━━━━━━━━━━━━\u001b[0m\u001b[37m\u001b[0m \u001b[1m0s\u001b[0m 18ms/step - categorical_accuracy: 0.9390 - loss: 0.1949 - val_categorical_accuracy: 0.9722 - val_loss: 0.2028\n",
            "Epoch 76/100\n",
            "\u001b[1m3/3\u001b[0m \u001b[32m━━━━━━━━━━━━━━━━━━━━\u001b[0m\u001b[37m\u001b[0m \u001b[1m0s\u001b[0m 17ms/step - categorical_accuracy: 0.9410 - loss: 0.2032 - val_categorical_accuracy: 0.9722 - val_loss: 0.2007\n",
            "Epoch 77/100\n",
            "\u001b[1m3/3\u001b[0m \u001b[32m━━━━━━━━━━━━━━━━━━━━\u001b[0m\u001b[37m\u001b[0m \u001b[1m0s\u001b[0m 21ms/step - categorical_accuracy: 0.9606 - loss: 0.1997 - val_categorical_accuracy: 0.9444 - val_loss: 0.2013\n",
            "Epoch 78/100\n",
            "\u001b[1m3/3\u001b[0m \u001b[32m━━━━━━━━━━━━━━━━━━━━\u001b[0m\u001b[37m\u001b[0m \u001b[1m0s\u001b[0m 24ms/step - categorical_accuracy: 0.9704 - loss: 0.2009 - val_categorical_accuracy: 0.9722 - val_loss: 0.1939\n",
            "Epoch 79/100\n",
            "\u001b[1m3/3\u001b[0m \u001b[32m━━━━━━━━━━━━━━━━━━━━\u001b[0m\u001b[37m\u001b[0m \u001b[1m0s\u001b[0m 19ms/step - categorical_accuracy: 0.9410 - loss: 0.1876 - val_categorical_accuracy: 0.9722 - val_loss: 0.1990\n",
            "Epoch 80/100\n",
            "\u001b[1m3/3\u001b[0m \u001b[32m━━━━━━━━━━━━━━━━━━━━\u001b[0m\u001b[37m\u001b[0m \u001b[1m0s\u001b[0m 18ms/step - categorical_accuracy: 0.9273 - loss: 0.1998 - val_categorical_accuracy: 0.9722 - val_loss: 0.1916\n",
            "Epoch 81/100\n",
            "\u001b[1m3/3\u001b[0m \u001b[32m━━━━━━━━━━━━━━━━━━━━\u001b[0m\u001b[37m\u001b[0m \u001b[1m0s\u001b[0m 34ms/step - categorical_accuracy: 0.9528 - loss: 0.1834 - val_categorical_accuracy: 0.9722 - val_loss: 0.1869\n",
            "Epoch 82/100\n",
            "\u001b[1m3/3\u001b[0m \u001b[32m━━━━━━━━━━━━━━━━━━━━\u001b[0m\u001b[37m\u001b[0m \u001b[1m0s\u001b[0m 36ms/step - categorical_accuracy: 0.9390 - loss: 0.1884 - val_categorical_accuracy: 1.0000 - val_loss: 0.1851\n",
            "Epoch 83/100\n",
            "\u001b[1m3/3\u001b[0m \u001b[32m━━━━━━━━━━━━━━━━━━━━\u001b[0m\u001b[37m\u001b[0m \u001b[1m0s\u001b[0m 32ms/step - categorical_accuracy: 0.9606 - loss: 0.1635 - val_categorical_accuracy: 0.9722 - val_loss: 0.1806\n",
            "Epoch 84/100\n",
            "\u001b[1m3/3\u001b[0m \u001b[32m━━━━━━━━━━━━━━━━━━━━\u001b[0m\u001b[37m\u001b[0m \u001b[1m0s\u001b[0m 33ms/step - categorical_accuracy: 0.9567 - loss: 0.1639 - val_categorical_accuracy: 0.9722 - val_loss: 0.1843\n",
            "Epoch 85/100\n",
            "\u001b[1m3/3\u001b[0m \u001b[32m━━━━━━━━━━━━━━━━━━━━\u001b[0m\u001b[37m\u001b[0m \u001b[1m0s\u001b[0m 26ms/step - categorical_accuracy: 0.9312 - loss: 0.1889 - val_categorical_accuracy: 0.9722 - val_loss: 0.1757\n",
            "Epoch 86/100\n",
            "\u001b[1m3/3\u001b[0m \u001b[32m━━━━━━━━━━━━━━━━━━━━\u001b[0m\u001b[37m\u001b[0m \u001b[1m0s\u001b[0m 33ms/step - categorical_accuracy: 0.9546 - loss: 0.1556 - val_categorical_accuracy: 1.0000 - val_loss: 0.1737\n",
            "Epoch 87/100\n",
            "\u001b[1m3/3\u001b[0m \u001b[32m━━━━━━━━━━━━━━━━━━━━\u001b[0m\u001b[37m\u001b[0m \u001b[1m0s\u001b[0m 37ms/step - categorical_accuracy: 0.9487 - loss: 0.1596 - val_categorical_accuracy: 0.9722 - val_loss: 0.1705\n",
            "Epoch 88/100\n",
            "\u001b[1m3/3\u001b[0m \u001b[32m━━━━━━━━━━━━━━━━━━━━\u001b[0m\u001b[37m\u001b[0m \u001b[1m0s\u001b[0m 32ms/step - categorical_accuracy: 0.9488 - loss: 0.1790 - val_categorical_accuracy: 0.9722 - val_loss: 0.1693\n",
            "Epoch 89/100\n",
            "\u001b[1m3/3\u001b[0m \u001b[32m━━━━━━━━━━━━━━━━━━━━\u001b[0m\u001b[37m\u001b[0m \u001b[1m0s\u001b[0m 31ms/step - categorical_accuracy: 0.9390 - loss: 0.1680 - val_categorical_accuracy: 0.9722 - val_loss: 0.1670\n",
            "Epoch 90/100\n",
            "\u001b[1m3/3\u001b[0m \u001b[32m━━━━━━━━━━━━━━━━━━━━\u001b[0m\u001b[37m\u001b[0m \u001b[1m0s\u001b[0m 30ms/step - categorical_accuracy: 0.9567 - loss: 0.1571 - val_categorical_accuracy: 0.9722 - val_loss: 0.1641\n",
            "Epoch 91/100\n",
            "\u001b[1m3/3\u001b[0m \u001b[32m━━━━━━━━━━━━━━━━━━━━\u001b[0m\u001b[37m\u001b[0m \u001b[1m0s\u001b[0m 25ms/step - categorical_accuracy: 0.9488 - loss: 0.1694 - val_categorical_accuracy: 0.9722 - val_loss: 0.1629\n",
            "Epoch 92/100\n",
            "\u001b[1m3/3\u001b[0m \u001b[32m━━━━━━━━━━━━━━━━━━━━\u001b[0m\u001b[37m\u001b[0m \u001b[1m0s\u001b[0m 34ms/step - categorical_accuracy: 0.9626 - loss: 0.1642 - val_categorical_accuracy: 1.0000 - val_loss: 0.1625\n",
            "Epoch 93/100\n",
            "\u001b[1m3/3\u001b[0m \u001b[32m━━━━━━━━━━━━━━━━━━━━\u001b[0m\u001b[37m\u001b[0m \u001b[1m0s\u001b[0m 38ms/step - categorical_accuracy: 0.9487 - loss: 0.1527 - val_categorical_accuracy: 0.9722 - val_loss: 0.1581\n",
            "Epoch 94/100\n",
            "\u001b[1m3/3\u001b[0m \u001b[32m━━━━━━━━━━━━━━━━━━━━\u001b[0m\u001b[37m\u001b[0m \u001b[1m0s\u001b[0m 38ms/step - categorical_accuracy: 0.9528 - loss: 0.1593 - val_categorical_accuracy: 0.9722 - val_loss: 0.1554\n",
            "Epoch 95/100\n",
            "\u001b[1m3/3\u001b[0m \u001b[32m━━━━━━━━━━━━━━━━━━━━\u001b[0m\u001b[37m\u001b[0m \u001b[1m0s\u001b[0m 27ms/step - categorical_accuracy: 0.9273 - loss: 0.1636 - val_categorical_accuracy: 1.0000 - val_loss: 0.1574\n",
            "Epoch 96/100\n",
            "\u001b[1m3/3\u001b[0m \u001b[32m━━━━━━━━━━━━━━━━━━━━\u001b[0m\u001b[37m\u001b[0m \u001b[1m0s\u001b[0m 33ms/step - categorical_accuracy: 0.9528 - loss: 0.1480 - val_categorical_accuracy: 0.9722 - val_loss: 0.1519\n",
            "Epoch 97/100\n",
            "\u001b[1m3/3\u001b[0m \u001b[32m━━━━━━━━━━━━━━━━━━━━\u001b[0m\u001b[37m\u001b[0m \u001b[1m0s\u001b[0m 32ms/step - categorical_accuracy: 0.9429 - loss: 0.1422 - val_categorical_accuracy: 0.9722 - val_loss: 0.1506\n",
            "Epoch 98/100\n",
            "\u001b[1m3/3\u001b[0m \u001b[32m━━━━━━━━━━━━━━━━━━━━\u001b[0m\u001b[37m\u001b[0m \u001b[1m0s\u001b[0m 33ms/step - categorical_accuracy: 0.9429 - loss: 0.1330 - val_categorical_accuracy: 0.9444 - val_loss: 0.1554\n",
            "Epoch 99/100\n",
            "\u001b[1m3/3\u001b[0m \u001b[32m━━━━━━━━━━━━━━━━━━━━\u001b[0m\u001b[37m\u001b[0m \u001b[1m0s\u001b[0m 33ms/step - categorical_accuracy: 0.9803 - loss: 0.1665 - val_categorical_accuracy: 0.9722 - val_loss: 0.1461\n",
            "Epoch 100/100\n",
            "\u001b[1m3/3\u001b[0m \u001b[32m━━━━━━━━━━━━━━━━━━━━\u001b[0m\u001b[37m\u001b[0m \u001b[1m0s\u001b[0m 28ms/step - categorical_accuracy: 0.9684 - loss: 0.1335 - val_categorical_accuracy: 0.9444 - val_loss: 0.1499\n"
          ]
        }
      ],
      "source": [
        "epocas = 100\n",
        "historico = modelo.fit(x_treino, y_treino,\n",
        "           epochs = epocas,\n",
        "           validation_split=0.3)"
      ]
    },
    {
      "cell_type": "markdown",
      "metadata": {
        "id": "5YUF_A1qxWbn"
      },
      "source": [
        "**Interpretando a exibição:**\n",
        "\n",
        "Exemplo de exibição:\n",
        "```\n",
        "Epoch 100/100\n",
        "3/3 [==============================] - 0s 47ms/step - loss: 0.1451 - categorical_accuracy: 0.9524 - val_loss: 0.1456 - val_categorical_accuracy: 0.9722\n",
        "```\n",
        "- A época de treinamento: *`Epoch 100/100`*\n",
        "- Quantidade de **instâncias processadas**: *`3/3`*\n",
        "  * Aqui, temos a quantidade de amostras divididas pela número de [batch_size](https://www.deeplearningbook.com.br/o-efeito-do-batch-size-no-treinamento-de-redes-neurais-artificiais/). Normalmente a batch é definida com 32 no keras, temos 84 amostras (70% do conjunto de treino) no treinamento, resultando assim em aproximadamente 3 instâncias.\n",
        "- A barra de progresso: *`[==============================]`*\n",
        "- Tempo de treinamento de cada amostra: *`0s 13ms/step`*\n",
        "- Perda e acurária no conjunto de treinamento: *`loss: 0.1506 - categorical_accuracy: 0.9524`*\n",
        "- Perda e acurária no conjunto de validação: *`val_loss: 0.1494 - val_categorical_accuracy: 0.9722`*"
      ]
    },
    {
      "cell_type": "markdown",
      "metadata": {
        "id": "Xo_FaGu90YOt"
      },
      "source": [
        "### Avaliação"
      ]
    },
    {
      "cell_type": "markdown",
      "metadata": {
        "id": "dUAsjXu28U0T"
      },
      "source": [
        "#### Aprendizado\n",
        "\n",
        "Podemos avaliar o desempenho do nosso modelo durante o treinamento com os dados de `historico` através do método `history` e plotar o processo de aprendizado"
      ]
    },
    {
      "cell_type": "code",
      "execution_count": 34,
      "metadata": {
        "id": "8rqFkNgb4UXK",
        "colab": {
          "base_uri": "https://localhost:8080/"
        },
        "collapsed": true,
        "outputId": "d7a3af0e-1d20-4313-8ecd-cbdc2ca10b8e"
      },
      "outputs": [
        {
          "output_type": "execute_result",
          "data": {
            "text/plain": [
              "{'categorical_accuracy': [0.4761904776096344,\n",
              "  0.6785714030265808,\n",
              "  0.6785714030265808,\n",
              "  0.6785714030265808,\n",
              "  0.6785714030265808,\n",
              "  0.6785714030265808,\n",
              "  0.6785714030265808,\n",
              "  0.6785714030265808,\n",
              "  0.6785714030265808,\n",
              "  0.6785714030265808,\n",
              "  0.6785714030265808,\n",
              "  0.6785714030265808,\n",
              "  0.6785714030265808,\n",
              "  0.6785714030265808,\n",
              "  0.6785714030265808,\n",
              "  0.6785714030265808,\n",
              "  0.6785714030265808,\n",
              "  0.6785714030265808,\n",
              "  0.7023809552192688,\n",
              "  0.7142857313156128,\n",
              "  0.773809552192688,\n",
              "  0.761904776096344,\n",
              "  0.75,\n",
              "  0.7142857313156128,\n",
              "  0.8333333134651184,\n",
              "  0.8214285969734192,\n",
              "  0.8690476417541504,\n",
              "  0.7976190447807312,\n",
              "  0.8928571343421936,\n",
              "  0.8809523582458496,\n",
              "  0.8928571343421936,\n",
              "  0.9047619104385376,\n",
              "  0.8928571343421936,\n",
              "  0.8928571343421936,\n",
              "  0.9047619104385376,\n",
              "  0.9166666865348816,\n",
              "  0.8928571343421936,\n",
              "  0.8928571343421936,\n",
              "  0.9047619104385376,\n",
              "  0.9285714030265808,\n",
              "  0.8928571343421936,\n",
              "  0.9285714030265808,\n",
              "  0.9166666865348816,\n",
              "  0.9166666865348816,\n",
              "  0.9404761791229248,\n",
              "  0.8928571343421936,\n",
              "  0.9166666865348816,\n",
              "  0.9642857313156128,\n",
              "  0.9404761791229248,\n",
              "  0.9166666865348816,\n",
              "  0.9642857313156128,\n",
              "  0.9523809552192688,\n",
              "  0.9404761791229248,\n",
              "  0.9166666865348816,\n",
              "  0.9285714030265808,\n",
              "  0.9404761791229248,\n",
              "  0.9523809552192688,\n",
              "  0.9523809552192688,\n",
              "  0.9166666865348816,\n",
              "  0.9404761791229248,\n",
              "  0.9523809552192688,\n",
              "  0.9285714030265808,\n",
              "  0.9523809552192688,\n",
              "  0.9285714030265808,\n",
              "  0.9642857313156128,\n",
              "  0.9404761791229248,\n",
              "  0.9523809552192688,\n",
              "  0.9523809552192688,\n",
              "  0.9642857313156128,\n",
              "  0.9523809552192688,\n",
              "  0.9404761791229248,\n",
              "  0.9523809552192688,\n",
              "  0.9642857313156128,\n",
              "  0.9166666865348816,\n",
              "  0.9404761791229248,\n",
              "  0.9523809552192688,\n",
              "  0.9523809552192688,\n",
              "  0.9642857313156128,\n",
              "  0.9523809552192688,\n",
              "  0.9404761791229248,\n",
              "  0.9523809552192688,\n",
              "  0.9404761791229248,\n",
              "  0.9523809552192688,\n",
              "  0.9523809552192688,\n",
              "  0.9404761791229248,\n",
              "  0.9404761791229248,\n",
              "  0.9285714030265808,\n",
              "  0.9523809552192688,\n",
              "  0.9404761791229248,\n",
              "  0.9523809552192688,\n",
              "  0.9523809552192688,\n",
              "  0.9642857313156128,\n",
              "  0.9285714030265808,\n",
              "  0.9523809552192688,\n",
              "  0.9404761791229248,\n",
              "  0.9523809552192688,\n",
              "  0.9404761791229248,\n",
              "  0.9404761791229248,\n",
              "  0.976190447807312,\n",
              "  0.9523809552192688],\n",
              " 'loss': [1.0753103494644165,\n",
              "  0.9948156476020813,\n",
              "  0.9439837336540222,\n",
              "  0.8985084295272827,\n",
              "  0.8599900007247925,\n",
              "  0.825320303440094,\n",
              "  0.7978107929229736,\n",
              "  0.7650837898254395,\n",
              "  0.7374318838119507,\n",
              "  0.7110352516174316,\n",
              "  0.6835551261901855,\n",
              "  0.6615765690803528,\n",
              "  0.6394277215003967,\n",
              "  0.618118405342102,\n",
              "  0.5980656147003174,\n",
              "  0.581246018409729,\n",
              "  0.5643826723098755,\n",
              "  0.5481920838356018,\n",
              "  0.531598687171936,\n",
              "  0.5196736454963684,\n",
              "  0.5061407685279846,\n",
              "  0.49240729212760925,\n",
              "  0.4801830053329468,\n",
              "  0.4703123867511749,\n",
              "  0.45964744687080383,\n",
              "  0.4578377902507782,\n",
              "  0.4380042552947998,\n",
              "  0.4324875473976135,\n",
              "  0.4219876825809479,\n",
              "  0.41394346952438354,\n",
              "  0.4047574996948242,\n",
              "  0.3972814083099365,\n",
              "  0.39236822724342346,\n",
              "  0.38667532801628113,\n",
              "  0.38065946102142334,\n",
              "  0.36842626333236694,\n",
              "  0.3654778003692627,\n",
              "  0.35535454750061035,\n",
              "  0.3494356572628021,\n",
              "  0.349366694688797,\n",
              "  0.34742531180381775,\n",
              "  0.3326478898525238,\n",
              "  0.3253959119319916,\n",
              "  0.32626596093177795,\n",
              "  0.3155134320259094,\n",
              "  0.31523412466049194,\n",
              "  0.31178125739097595,\n",
              "  0.30171605944633484,\n",
              "  0.2950684726238251,\n",
              "  0.2915114760398865,\n",
              "  0.2895564138889313,\n",
              "  0.2825090289115906,\n",
              "  0.28371134400367737,\n",
              "  0.2726215720176697,\n",
              "  0.2686474323272705,\n",
              "  0.26675093173980713,\n",
              "  0.25954756140708923,\n",
              "  0.25988778471946716,\n",
              "  0.2505597174167633,\n",
              "  0.2518463432788849,\n",
              "  0.24115076661109924,\n",
              "  0.23795990645885468,\n",
              "  0.23580047488212585,\n",
              "  0.2295377105474472,\n",
              "  0.22704613208770752,\n",
              "  0.22680793702602386,\n",
              "  0.2186310887336731,\n",
              "  0.21431949734687805,\n",
              "  0.22132760286331177,\n",
              "  0.2154604196548462,\n",
              "  0.2086685299873352,\n",
              "  0.20731207728385925,\n",
              "  0.2044573724269867,\n",
              "  0.20326639711856842,\n",
              "  0.19578392803668976,\n",
              "  0.19332817196846008,\n",
              "  0.1947403848171234,\n",
              "  0.18999741971492767,\n",
              "  0.19214865565299988,\n",
              "  0.1884179413318634,\n",
              "  0.18277117609977722,\n",
              "  0.17960484325885773,\n",
              "  0.17698624730110168,\n",
              "  0.1760358363389969,\n",
              "  0.18104834854602814,\n",
              "  0.17027296125888824,\n",
              "  0.17601650953292847,\n",
              "  0.16776135563850403,\n",
              "  0.17719000577926636,\n",
              "  0.16225025057792664,\n",
              "  0.1603061854839325,\n",
              "  0.1590229719877243,\n",
              "  0.17301352322101593,\n",
              "  0.15651164948940277,\n",
              "  0.1572549045085907,\n",
              "  0.15501616895198822,\n",
              "  0.1521308571100235,\n",
              "  0.15047988295555115,\n",
              "  0.15690015256404877,\n",
              "  0.14711201190948486],\n",
              " 'val_categorical_accuracy': [0.6388888955116272,\n",
              "  0.6388888955116272,\n",
              "  0.6388888955116272,\n",
              "  0.6388888955116272,\n",
              "  0.6388888955116272,\n",
              "  0.6388888955116272,\n",
              "  0.6388888955116272,\n",
              "  0.6388888955116272,\n",
              "  0.6388888955116272,\n",
              "  0.6388888955116272,\n",
              "  0.6388888955116272,\n",
              "  0.6388888955116272,\n",
              "  0.6388888955116272,\n",
              "  0.6388888955116272,\n",
              "  0.6388888955116272,\n",
              "  0.6388888955116272,\n",
              "  0.6388888955116272,\n",
              "  0.6666666865348816,\n",
              "  0.6666666865348816,\n",
              "  0.7222222089767456,\n",
              "  0.7222222089767456,\n",
              "  0.6666666865348816,\n",
              "  0.7222222089767456,\n",
              "  0.8333333134651184,\n",
              "  0.7777777910232544,\n",
              "  0.7777777910232544,\n",
              "  0.7777777910232544,\n",
              "  0.8888888955116272,\n",
              "  0.8888888955116272,\n",
              "  0.9166666865348816,\n",
              "  0.8888888955116272,\n",
              "  0.8055555820465088,\n",
              "  0.8888888955116272,\n",
              "  0.9166666865348816,\n",
              "  0.9722222089767456,\n",
              "  0.9166666865348816,\n",
              "  0.9166666865348816,\n",
              "  0.9722222089767456,\n",
              "  0.9444444179534912,\n",
              "  0.9166666865348816,\n",
              "  0.9444444179534912,\n",
              "  0.9166666865348816,\n",
              "  0.9722222089767456,\n",
              "  0.9722222089767456,\n",
              "  0.9166666865348816,\n",
              "  0.9722222089767456,\n",
              "  0.9722222089767456,\n",
              "  0.9722222089767456,\n",
              "  0.9444444179534912,\n",
              "  0.9722222089767456,\n",
              "  0.9722222089767456,\n",
              "  0.9722222089767456,\n",
              "  0.9444444179534912,\n",
              "  1.0,\n",
              "  0.9722222089767456,\n",
              "  0.9722222089767456,\n",
              "  0.9722222089767456,\n",
              "  0.9444444179534912,\n",
              "  0.9722222089767456,\n",
              "  0.9722222089767456,\n",
              "  0.9722222089767456,\n",
              "  0.9722222089767456,\n",
              "  1.0,\n",
              "  0.9722222089767456,\n",
              "  0.9166666865348816,\n",
              "  0.9722222089767456,\n",
              "  1.0,\n",
              "  0.9444444179534912,\n",
              "  0.9722222089767456,\n",
              "  0.9722222089767456,\n",
              "  0.9722222089767456,\n",
              "  0.9722222089767456,\n",
              "  0.9722222089767456,\n",
              "  0.9722222089767456,\n",
              "  0.9722222089767456,\n",
              "  0.9722222089767456,\n",
              "  0.9444444179534912,\n",
              "  0.9722222089767456,\n",
              "  0.9722222089767456,\n",
              "  0.9722222089767456,\n",
              "  0.9722222089767456,\n",
              "  1.0,\n",
              "  0.9722222089767456,\n",
              "  0.9722222089767456,\n",
              "  0.9722222089767456,\n",
              "  1.0,\n",
              "  0.9722222089767456,\n",
              "  0.9722222089767456,\n",
              "  0.9722222089767456,\n",
              "  0.9722222089767456,\n",
              "  0.9722222089767456,\n",
              "  1.0,\n",
              "  0.9722222089767456,\n",
              "  0.9722222089767456,\n",
              "  1.0,\n",
              "  0.9722222089767456,\n",
              "  0.9722222089767456,\n",
              "  0.9444444179534912,\n",
              "  0.9722222089767456,\n",
              "  0.9444444179534912],\n",
              " 'val_loss': [1.0160704851150513,\n",
              "  0.9664318561553955,\n",
              "  0.9260785579681396,\n",
              "  0.8910661339759827,\n",
              "  0.8588130474090576,\n",
              "  0.8308144807815552,\n",
              "  0.8030067682266235,\n",
              "  0.7757306694984436,\n",
              "  0.7509639263153076,\n",
              "  0.7293906807899475,\n",
              "  0.7047998309135437,\n",
              "  0.6840776801109314,\n",
              "  0.6650485992431641,\n",
              "  0.6448308825492859,\n",
              "  0.6293291449546814,\n",
              "  0.6146405935287476,\n",
              "  0.5961628556251526,\n",
              "  0.5791071653366089,\n",
              "  0.5642668604850769,\n",
              "  0.5501523017883301,\n",
              "  0.5372345447540283,\n",
              "  0.5252869129180908,\n",
              "  0.5129052400588989,\n",
              "  0.5008449554443359,\n",
              "  0.4899679720401764,\n",
              "  0.4805784821510315,\n",
              "  0.47248029708862305,\n",
              "  0.4605495035648346,\n",
              "  0.4513058662414551,\n",
              "  0.442156583070755,\n",
              "  0.4335547387599945,\n",
              "  0.42816972732543945,\n",
              "  0.4172956049442291,\n",
              "  0.40828678011894226,\n",
              "  0.40084710717201233,\n",
              "  0.39414849877357483,\n",
              "  0.38819295167922974,\n",
              "  0.3800332844257355,\n",
              "  0.37306609749794006,\n",
              "  0.36727380752563477,\n",
              "  0.3603927195072174,\n",
              "  0.3556140959262848,\n",
              "  0.3472381830215454,\n",
              "  0.34153658151626587,\n",
              "  0.3411383032798767,\n",
              "  0.32931238412857056,\n",
              "  0.32566335797309875,\n",
              "  0.3191712498664856,\n",
              "  0.3152681589126587,\n",
              "  0.30985498428344727,\n",
              "  0.3041437864303589,\n",
              "  0.2987608015537262,\n",
              "  0.2974996864795685,\n",
              "  0.28832757472991943,\n",
              "  0.28459203243255615,\n",
              "  0.2800811529159546,\n",
              "  0.27359530329704285,\n",
              "  0.2746810019016266,\n",
              "  0.2649041712284088,\n",
              "  0.2599080502986908,\n",
              "  0.25565168261528015,\n",
              "  0.25225532054901123,\n",
              "  0.2458285242319107,\n",
              "  0.24054166674613953,\n",
              "  0.24799376726150513,\n",
              "  0.23700666427612305,\n",
              "  0.22847430408000946,\n",
              "  0.2270195186138153,\n",
              "  0.22063231468200684,\n",
              "  0.22439789772033691,\n",
              "  0.21520954370498657,\n",
              "  0.2127639651298523,\n",
              "  0.21460062265396118,\n",
              "  0.20565563440322876,\n",
              "  0.20275603234767914,\n",
              "  0.20072394609451294,\n",
              "  0.20134468376636505,\n",
              "  0.19392791390419006,\n",
              "  0.19899208843708038,\n",
              "  0.19163712859153748,\n",
              "  0.18688899278640747,\n",
              "  0.18507906794548035,\n",
              "  0.18055783212184906,\n",
              "  0.18429230153560638,\n",
              "  0.17568105459213257,\n",
              "  0.17374306917190552,\n",
              "  0.17046581208705902,\n",
              "  0.16925007104873657,\n",
              "  0.16696327924728394,\n",
              "  0.16414600610733032,\n",
              "  0.1629052758216858,\n",
              "  0.16248737275600433,\n",
              "  0.15807946026325226,\n",
              "  0.15543586015701294,\n",
              "  0.15740840137004852,\n",
              "  0.15186916291713715,\n",
              "  0.15061955153942108,\n",
              "  0.15539170801639557,\n",
              "  0.1461195945739746,\n",
              "  0.14989373087882996]}"
            ]
          },
          "metadata": {},
          "execution_count": 34
        }
      ],
      "source": [
        "historico.history"
      ]
    },
    {
      "cell_type": "code",
      "execution_count": 37,
      "metadata": {
        "id": "EsYCNuAp4SuS",
        "colab": {
          "base_uri": "https://localhost:8080/",
          "height": 430
        },
        "outputId": "9133d9d5-c038-4424-ffa4-1247802a2a1b"
      },
      "outputs": [
        {
          "output_type": "display_data",
          "data": {
            "text/plain": [
              "<Figure size 640x480 with 1 Axes>"
            ],
            "image/png": "[encoded data removed]"
          },
          "metadata": {}
        }
      ],
      "source": [
        "import pandas as pd\n",
        "\n",
        "pd.DataFrame(historico.history).plot()\n",
        "plt.grid()\n",
        "plt.show()"
      ]
    },
    {
      "cell_type": "markdown",
      "metadata": {
        "id": "nTSMv08X3own"
      },
      "source": [
        "Para observar mais de perto o aprendizado do modelo podemos plotar curvas individuais e perceber como no aprendizado, ambos os conjuntos obtiveram resultados similares. Isso nos garante que não ocorreu sobreajuste no treinamento.\n",
        "\n",
        "A constancia das curvas é diferente pois os valores de erro  da validação é calculada por época e para o treinamento é feito uma média dos valores de erro durante as iterações de cada época."
      ]
    },
    {
      "cell_type": "code",
      "execution_count": 36,
      "metadata": {
        "id": "lVRjbAhb3576",
        "colab": {
          "base_uri": "https://localhost:8080/",
          "height": 495
        },
        "outputId": "899b8f68-446e-4e2c-e822-9825ed57aeac"
      },
      "outputs": [
        {
          "output_type": "display_data",
          "data": {
            "text/plain": [
              "<Figure size 1400x500 with 2 Axes>"
            ],
            "image/png": "[encoded data removed]"
          },
          "metadata": {}
        }
      ],
      "source": [
        "fig, ax = plt.subplots(1,2, figsize=(14,5))\n",
        "ax[0].plot(historico.history['loss'], color='#111487', linewidth=3, label=\"Perda de treinamento\")\n",
        "ax[0].plot(historico.history['val_loss'], color='#EFA316', linewidth=3, label=\"Perda da validação\",axes =ax[0])\n",
        "legend = ax[0].legend(loc='best', shadow=True)\n",
        "\n",
        "ax[1].plot(historico.history['categorical_accuracy'], color='#111487', linewidth=3, label=\"Acurácia de treinamento\")\n",
        "ax[1].plot(historico.history['val_categorical_accuracy'], color='#EFA316', linewidth=3, label=\"Acurácia de validação\")\n",
        "legend = ax[1].legend(loc='best', shadow=True)\n",
        "\n",
        "plt.suptitle('Desempenho do treinamento', fontsize = 18)\n",
        "plt.show()"
      ]
    },
    {
      "cell_type": "markdown",
      "metadata": {
        "id": "i4_zjfM_Lo2Z"
      },
      "source": [
        "#### Teste\n",
        "\n",
        "Podemos testar o modelo e verificar seu resultado final através do método [`evaluate`](https://keras.io/api/models/model_training_apis/#:~:text=%5Bsource%5D-,evaluate%20method,-Model.evaluate) que nos mostra a perda e acurácia obtida no conjunto de teste."
      ]
    },
    {
      "cell_type": "code",
      "execution_count": 38,
      "metadata": {
        "id": "P0sL5Gzz3xVC",
        "colab": {
          "base_uri": "https://localhost:8080/"
        },
        "outputId": "21863b88-342d-46c2-8967-2d0b2b486155"
      },
      "outputs": [
        {
          "output_type": "stream",
          "name": "stdout",
          "text": [
            "\u001b[1m1/1\u001b[0m \u001b[32m━━━━━━━━━━━━━━━━━━━━\u001b[0m\u001b[37m\u001b[0m \u001b[1m0s\u001b[0m 50ms/step - categorical_accuracy: 0.9333 - loss: 0.1546\n"
          ]
        },
        {
          "output_type": "execute_result",
          "data": {
            "text/plain": [
              "[0.15462444722652435, 0.9333333373069763]"
            ]
          },
          "metadata": {},
          "execution_count": 38
        }
      ],
      "source": [
        "modelo.evaluate(x_teste, y_teste)"
      ]
    },
    {
      "cell_type": "markdown",
      "metadata": {
        "id": "S1c0zg0q9L7m"
      },
      "source": [
        "O método [`predict`](https://keras.io/api/models/model_training_apis/#:~:text=%5Bsource%5D-,predict%20method,-Model.predict) gera a predição do modelo para as entradas enviadas.\n",
        "\n",
        "Faremos o teste: as entradas `[[0.61, 0.5, 0.69, 0.79]]` devem resultar em uma indicação de flor Virginica - `[0., 0., 1.]`"
      ]
    },
    {
      "cell_type": "code",
      "execution_count": 40,
      "metadata": {
        "id": "Z--7p0UG3zn6",
        "colab": {
          "base_uri": "https://localhost:8080/"
        },
        "outputId": "973ce283-b314-4d3a-a6d0-ded3d2e9ac3b"
      },
      "outputs": [
        {
          "output_type": "stream",
          "name": "stdout",
          "text": [
            "\u001b[1m1/1\u001b[0m \u001b[32m━━━━━━━━━━━━━━━━━━━━\u001b[0m\u001b[37m\u001b[0m \u001b[1m0s\u001b[0m 59ms/step\n",
            "[[6.8558475e-05 3.0552113e-01 6.9441026e-01]]\n"
          ]
        }
      ],
      "source": [
        "import numpy as np\n",
        "\n",
        "# Converta a lista para um array numpy\n",
        "input_data = np.array([[0.61, 0.5, 0.69, 0.79]])\n",
        "\n",
        "# Faça a previsão\n",
        "prediction = modelo.predict(input_data)\n",
        "\n",
        "print(prediction)\n"
      ]
    }
  ],
  "metadata": {
    "colab": {
      "provenance": []
    },
    "kernelspec": {
      "display_name": "Python 3.8.8 ('base')",
      "language": "python",
      "name": "python3"
    },
    "language_info": {
      "name": "python",
      "version": "3.8.8"
    },
    "vscode": {
      "interpreter": {
        "hash": "fea9c88495d1f50c34d2e3148c86f8e68579aa6a67b316dc78ccb8fbc7a6d96e"
      }
    }
  },
  "nbformat": 4,
  "nbformat_minor": 0
}